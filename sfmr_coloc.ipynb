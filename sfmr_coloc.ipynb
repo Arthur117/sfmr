{
 "cells": [
  {
   "cell_type": "code",
   "execution_count": 9,
   "id": "d1a30673-e450-4e1e-9c65-c6e56baaec47",
   "metadata": {},
   "outputs": [],
   "source": [
    "# conda activate sfmr\n",
    "import __init__ as f\n",
    "import xarray as xr\n",
    "import pandas as pd\n",
    "import numpy as np"
   ]
  },
  {
   "cell_type": "code",
   "execution_count": 2,
   "id": "81f1fd19-0805-4a56-9130-027fc21483a2",
   "metadata": {},
   "outputs": [
    {
     "data": {
      "text/plain": [
       "<function __init__.prepare_sfmr(sfmr_file, track_df, acq_time)>"
      ]
     },
     "execution_count": 2,
     "metadata": {},
     "output_type": "execute_result"
    }
   ],
   "source": [
    "f.prepare_sfmr"
   ]
  },
  {
   "cell_type": "code",
   "execution_count": 3,
   "id": "4e8940c8-927a-45ba-8880-b7a2cc75277f",
   "metadata": {},
   "outputs": [
    {
     "name": "stdout",
     "output_type": "stream",
     "text": [
      "Time interval:  22:56:32-04:40:27\n"
     ]
    }
   ],
   "source": [
    "# SFMR\n",
    "p_sfmr  = '/home/arthur/data/cyclobs/sfmr/noaa_aoml_hrd/2019/dorian/AFRC_SFMR20190830U3.nc'\n",
    "ds_sfmr = xr.open_dataset(p_sfmr)\n",
    "print('Time interval: ', ds_sfmr.attrs['TimeInterval'])"
   ]
  },
  {
   "cell_type": "code",
   "execution_count": 4,
   "id": "d1711d71-411a-4e97-90ed-96a46bbf5719",
   "metadata": {},
   "outputs": [],
   "source": [
    "# SCAT or RAD\n",
    "p_sct  = '/home/arthur/data/scatterometer/KNMI/product_JF_rotated_filtered_v2/POLAR/2019/AL052019/POL_ascat_20190830_004500_metopa_66735_srv_o_125_ovw.nc'\n",
    "ds_sct = xr.open_dataset(p_sct)\n",
    "P_SCT  = '/home/arthur/data/scatterometer/KNMI/product_JF_v2/' + ds_sct.data_file.item()\n",
    "DS_SCT = xr.open_dataset(P_SCT)"
   ]
  },
  {
   "cell_type": "code",
   "execution_count": 36,
   "id": "78550670-0f49-4ff6-9d58-0f68cd260ea2",
   "metadata": {},
   "outputs": [],
   "source": [
    "track_df = pd.DataFrame(\n",
    "    data={\n",
    "        'datetime': DS_SCT.track_time,\n",
    "        'lon':      DS_SCT.__track_lon,\n",
    "        'lat':      DS_SCT.__track_lat,\n",
    "    }\n",
    ")\n",
    "\n",
    "# acq_time = pd.to_datetime(ds_sct.acquisition_time.item())\n",
    "acq_time = ds_sct.acquisition_time.values\n",
    "acq_time = pd.to_datetime(acq_time.astype('datetime64[s]')) # round to nearest second and convert to datetime object"
   ]
  },
  {
   "cell_type": "code",
   "execution_count": 38,
   "id": "085a3fcd-c0f9-45a3-8755-50e79a9b78ec",
   "metadata": {},
   "outputs": [
    {
     "name": "stderr",
     "output_type": "stream",
     "text": [
      "INFO:coloc_config.py:/home/arthur/data/cyclobs/sfmr/noaa_aoml_hrd/2019/dorian/AFRC_SFMR20190830U3.nc\n",
      "INFO:coloc_config.py:timing sfmr_resample : 0.0s. mem: +0.0Mb\n",
      "INFO:coloc_config.py:timing spatial_downsample : 0.0s. mem: +0.0Mb\n",
      "INFO:coloc_config.py:timing sfmr_translate : 0.4s. mem: +0.0Mb\n"
     ]
    }
   ],
   "source": [
    "sfmr_df  = f.prepare_sfmr(p_sfmr, track_df, acq_time)"
   ]
  },
  {
   "cell_type": "code",
   "execution_count": 42,
   "id": "8eaacdc8-c5cb-4f15-b9af-0bccb95e71a7",
   "metadata": {},
   "outputs": [
    {
     "data": {
      "text/plain": [
       "<AxesSubplot:xlabel='time'>"
      ]
     },
     "execution_count": 42,
     "metadata": {},
     "output_type": "execute_result"
    },
    {
     "data": {
      "image/png": "[encoded data removed]",
      "text/plain": [
       "<Figure size 432x288 with 1 Axes>"
      ]
     },
     "metadata": {
      "needs_background": "light"
     },
     "output_type": "display_data"
    }
   ],
   "source": [
    "sfmr_df.SWS.plot()"
   ]
  },
  {
   "cell_type": "code",
   "execution_count": null,
   "id": "a6342acf-3518-4329-b44a-07211dec3dd7",
   "metadata": {},
   "outputs": [],
   "source": []
  },
  {
   "cell_type": "code",
   "execution_count": null,
   "id": "fab49c7e-4f74-4438-b5e4-16c492f086fe",
   "metadata": {},
   "outputs": [],
   "source": []
  },
  {
   "cell_type": "code",
   "execution_count": null,
   "id": "63449372-c8d1-43dc-b1e6-ae2c463b8e51",
   "metadata": {},
   "outputs": [],
   "source": []
  },
  {
   "cell_type": "code",
   "execution_count": null,
   "id": "3bb365f9-3530-46cc-afef-668b4d74d9f9",
   "metadata": {},
   "outputs": [],
   "source": []
  }
 ],
 "metadata": {
  "kernelspec": {
   "display_name": "Python 3",
   "language": "python",
   "name": "python3"
  },
  "language_info": {
   "codemirror_mode": {
    "name": "ipython",
    "version": 3
   },
   "file_extension": ".py",
   "mimetype": "text/x-python",
   "name": "python",
   "nbconvert_exporter": "python",
   "pygments_lexer": "ipython3",
   "version": "3.7.15"
  }
 },
 "nbformat": 4,
 "nbformat_minor": 5
}
