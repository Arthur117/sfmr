{
 "cells": [
  {
   "cell_type": "code",
   "execution_count": 11,
   "id": "d1a30673-e450-4e1e-9c65-c6e56baaec47",
   "metadata": {},
   "outputs": [],
   "source": [
    "# conda activate sfmr\n",
    "import __init__ as f\n",
    "import xarray as xr\n",
    "import pandas as pd\n",
    "import numpy as np\n",
    "import matplotlib.pyplot as plt"
   ]
  },
  {
   "cell_type": "code",
   "execution_count": 2,
   "id": "81f1fd19-0805-4a56-9130-027fc21483a2",
   "metadata": {},
   "outputs": [
    {
     "data": {
      "text/plain": [
       "<function __init__.prepare_sfmr(sfmr_file, track_df, acq_time)>"
      ]
     },
     "execution_count": 2,
     "metadata": {},
     "output_type": "execute_result"
    }
   ],
   "source": [
    "f.prepare_sfmr"
   ]
  },
  {
   "cell_type": "code",
   "execution_count": 3,
   "id": "4e8940c8-927a-45ba-8880-b7a2cc75277f",
   "metadata": {},
   "outputs": [
    {
     "name": "stdout",
     "output_type": "stream",
     "text": [
      "Time interval:  22:56:32-04:40:27\n"
     ]
    }
   ],
   "source": [
    "# SFMR\n",
    "p_sfmr  = '/home/arthur/data/cyclobs/sfmr/noaa_aoml_hrd/2019/dorian/AFRC_SFMR20190830U3.nc'\n",
    "ds_sfmr = xr.open_dataset(p_sfmr)\n",
    "print('Time interval: ', ds_sfmr.attrs['TimeInterval'])"
   ]
  },
  {
   "cell_type": "code",
   "execution_count": 5,
   "id": "d1711d71-411a-4e97-90ed-96a46bbf5719",
   "metadata": {},
   "outputs": [],
   "source": [
    "# SCAT or RAD\n",
    "p_sct  = '/home/arthur/data/scatterometer/KNMI/product_JF_rotated_filtered/POLAR/2019/AL052019/POL_ascat_20190830_004500_metopa_66735_srv_o_125_ovw.nc'\n",
    "ds_sct = xr.open_dataset(p_sct)\n",
    "P_SCT  = '/home/arthur/data/scatterometer/KNMI/product_JF/' + ds_sct.data_file.item()\n",
    "DS_SCT = xr.open_dataset(P_SCT)"
   ]
  },
  {
   "cell_type": "code",
   "execution_count": 6,
   "id": "78550670-0f49-4ff6-9d58-0f68cd260ea2",
   "metadata": {},
   "outputs": [],
   "source": [
    "track_df = pd.DataFrame(\n",
    "    data={\n",
    "        'datetime': DS_SCT.track_time,\n",
    "        'lon':      DS_SCT.__track_lon,\n",
    "        'lat':      DS_SCT.__track_lat,\n",
    "    }\n",
    ")\n",
    "\n",
    "# acq_time = pd.to_datetime(ds_sct.acquisition_time.item())\n",
    "acq_time = ds_sct.acquisition_time.values\n",
    "acq_time = pd.to_datetime(acq_time.astype('datetime64[s]')) # round to nearest second and convert to datetime object"
   ]
  },
  {
   "cell_type": "code",
   "execution_count": 7,
   "id": "085a3fcd-c0f9-45a3-8755-50e79a9b78ec",
   "metadata": {},
   "outputs": [
    {
     "name": "stderr",
     "output_type": "stream",
     "text": [
      "INFO:coloc_config.py:/home/arthur/data/cyclobs/sfmr/noaa_aoml_hrd/2019/dorian/AFRC_SFMR20190830U3.nc\n",
      "INFO:coloc_config.py:timing sfmr_resample : 0.0s. mem: -0.4Mb\n",
      "INFO:coloc_config.py:timing spatial_downsample : 3.2s. mem: +43.0Mb\n",
      "INFO:coloc_config.py:timing sfmr_translate : 0.4s. mem: +1.0Mb\n"
     ]
    }
   ],
   "source": [
    "sfmr_df  = f.prepare_sfmr(p_sfmr, track_df, acq_time)"
   ]
  },
  {
   "cell_type": "code",
   "execution_count": 8,
   "id": "8eaacdc8-c5cb-4f15-b9af-0bccb95e71a7",
   "metadata": {},
   "outputs": [
    {
     "data": {
      "text/plain": [
       "<AxesSubplot:xlabel='time'>"
      ]
     },
     "execution_count": 8,
     "metadata": {},
     "output_type": "execute_result"
    },
    {
     "data": {
      "image/png": "[encoded data removed]",
      "text/plain": [
       "<Figure size 432x288 with 1 Axes>"
      ]
     },
     "metadata": {
      "needs_background": "light"
     },
     "output_type": "display_data"
    }
   ],
   "source": [
    "sfmr_df.SWS.plot()"
   ]
  },
  {
   "cell_type": "code",
   "execution_count": 9,
   "id": "a6342acf-3518-4329-b44a-07211dec3dd7",
   "metadata": {},
   "outputs": [
    {
     "data": {
      "text/html": [
       "<div>\n",
       "<style scoped>\n",
       "    .dataframe tbody tr th:only-of-type {\n",
       "        vertical-align: middle;\n",
       "    }\n",
       "\n",
       "    .dataframe tbody tr th {\n",
       "        vertical-align: top;\n",
       "    }\n",
       "\n",
       "    .dataframe thead th {\n",
       "        text-align: right;\n",
       "    }\n",
       "</style>\n",
       "<table border=\"1\" class=\"dataframe\">\n",
       "  <thead>\n",
       "    <tr style=\"text-align: right;\">\n",
       "      <th></th>\n",
       "      <th>SWS</th>\n",
       "      <th>LON</th>\n",
       "      <th>LAT</th>\n",
       "      <th>RALT</th>\n",
       "      <th>RANG</th>\n",
       "      <th>PANG</th>\n",
       "      <th>ATEMP</th>\n",
       "      <th>SST</th>\n",
       "      <th>SALN</th>\n",
       "      <th>SRR</th>\n",
       "      <th>FWS</th>\n",
       "      <th>FDIR</th>\n",
       "    </tr>\n",
       "    <tr>\n",
       "      <th>time</th>\n",
       "      <th></th>\n",
       "      <th></th>\n",
       "      <th></th>\n",
       "      <th></th>\n",
       "      <th></th>\n",
       "      <th></th>\n",
       "      <th></th>\n",
       "      <th></th>\n",
       "      <th></th>\n",
       "      <th></th>\n",
       "      <th></th>\n",
       "      <th></th>\n",
       "    </tr>\n",
       "  </thead>\n",
       "  <tbody>\n",
       "    <tr>\n",
       "      <th>2019-08-30 23:13:26</th>\n",
       "      <td>NaN</td>\n",
       "      <td>-80.049622</td>\n",
       "      <td>25.432395</td>\n",
       "      <td>NaN</td>\n",
       "      <td>NaN</td>\n",
       "      <td>NaN</td>\n",
       "      <td>NaN</td>\n",
       "      <td>NaN</td>\n",
       "      <td>NaN</td>\n",
       "      <td>NaN</td>\n",
       "      <td>NaN</td>\n",
       "      <td>NaN</td>\n",
       "    </tr>\n",
       "    <tr>\n",
       "      <th>2019-08-30 23:17:51</th>\n",
       "      <td>9.911955</td>\n",
       "      <td>-79.805364</td>\n",
       "      <td>25.515227</td>\n",
       "      <td>5755.680455</td>\n",
       "      <td>0.395718</td>\n",
       "      <td>8.773736</td>\n",
       "      <td>-5.082273</td>\n",
       "      <td>30.065000</td>\n",
       "      <td>36.0</td>\n",
       "      <td>0.337727</td>\n",
       "      <td>-999.9</td>\n",
       "      <td>-999.9</td>\n",
       "    </tr>\n",
       "    <tr>\n",
       "      <th>2019-08-30 23:21:58</th>\n",
       "      <td>11.222692</td>\n",
       "      <td>-79.565048</td>\n",
       "      <td>25.604327</td>\n",
       "      <td>6668.142308</td>\n",
       "      <td>0.574760</td>\n",
       "      <td>8.181740</td>\n",
       "      <td>-9.394087</td>\n",
       "      <td>29.908173</td>\n",
       "      <td>36.0</td>\n",
       "      <td>0.750433</td>\n",
       "      <td>-999.9</td>\n",
       "      <td>-999.9</td>\n",
       "    </tr>\n",
       "    <tr>\n",
       "      <th>2019-08-30 23:24:37</th>\n",
       "      <td>11.239516</td>\n",
       "      <td>-79.404194</td>\n",
       "      <td>25.663065</td>\n",
       "      <td>7113.509677</td>\n",
       "      <td>0.082871</td>\n",
       "      <td>8.042790</td>\n",
       "      <td>-11.747581</td>\n",
       "      <td>29.954839</td>\n",
       "      <td>36.0</td>\n",
       "      <td>0.435645</td>\n",
       "      <td>-999.9</td>\n",
       "      <td>-999.9</td>\n",
       "    </tr>\n",
       "    <tr>\n",
       "      <th>2019-08-30 23:29:48</th>\n",
       "      <td>11.742303</td>\n",
       "      <td>-79.064000</td>\n",
       "      <td>25.787636</td>\n",
       "      <td>7506.378788</td>\n",
       "      <td>0.056867</td>\n",
       "      <td>4.460612</td>\n",
       "      <td>-14.573636</td>\n",
       "      <td>29.415758</td>\n",
       "      <td>36.0</td>\n",
       "      <td>1.028364</td>\n",
       "      <td>-999.9</td>\n",
       "      <td>-999.9</td>\n",
       "    </tr>\n",
       "    <tr>\n",
       "      <th>...</th>\n",
       "      <td>...</td>\n",
       "      <td>...</td>\n",
       "      <td>...</td>\n",
       "      <td>...</td>\n",
       "      <td>...</td>\n",
       "      <td>...</td>\n",
       "      <td>...</td>\n",
       "      <td>...</td>\n",
       "      <td>...</td>\n",
       "      <td>...</td>\n",
       "      <td>...</td>\n",
       "      <td>...</td>\n",
       "    </tr>\n",
       "    <tr>\n",
       "      <th>2019-08-31 04:28:41</th>\n",
       "      <td>7.797914</td>\n",
       "      <td>-86.581583</td>\n",
       "      <td>30.007914</td>\n",
       "      <td>4564.749640</td>\n",
       "      <td>0.013698</td>\n",
       "      <td>1.401309</td>\n",
       "      <td>2.500000</td>\n",
       "      <td>29.957914</td>\n",
       "      <td>36.0</td>\n",
       "      <td>0.000000</td>\n",
       "      <td>-999.9</td>\n",
       "      <td>-999.9</td>\n",
       "    </tr>\n",
       "    <tr>\n",
       "      <th>2019-08-31 04:31:21</th>\n",
       "      <td>6.399420</td>\n",
       "      <td>-86.832319</td>\n",
       "      <td>30.052174</td>\n",
       "      <td>4561.036232</td>\n",
       "      <td>0.002775</td>\n",
       "      <td>1.388616</td>\n",
       "      <td>2.349638</td>\n",
       "      <td>29.950000</td>\n",
       "      <td>36.0</td>\n",
       "      <td>0.000000</td>\n",
       "      <td>-999.9</td>\n",
       "      <td>-999.9</td>\n",
       "    </tr>\n",
       "    <tr>\n",
       "      <th>2019-08-31 04:33:59</th>\n",
       "      <td>5.324714</td>\n",
       "      <td>-87.081571</td>\n",
       "      <td>30.096714</td>\n",
       "      <td>4506.135714</td>\n",
       "      <td>-0.195021</td>\n",
       "      <td>0.683200</td>\n",
       "      <td>2.383929</td>\n",
       "      <td>29.933929</td>\n",
       "      <td>36.0</td>\n",
       "      <td>0.006429</td>\n",
       "      <td>-999.9</td>\n",
       "      <td>-999.9</td>\n",
       "    </tr>\n",
       "    <tr>\n",
       "      <th>2019-08-31 04:36:41</th>\n",
       "      <td>4.744196</td>\n",
       "      <td>-87.333427</td>\n",
       "      <td>30.140629</td>\n",
       "      <td>3707.523077</td>\n",
       "      <td>-0.560860</td>\n",
       "      <td>-1.236000</td>\n",
       "      <td>6.735175</td>\n",
       "      <td>29.867133</td>\n",
       "      <td>36.0</td>\n",
       "      <td>0.000000</td>\n",
       "      <td>-999.9</td>\n",
       "      <td>-999.9</td>\n",
       "    </tr>\n",
       "    <tr>\n",
       "      <th>2019-08-31 04:39:15</th>\n",
       "      <td>NaN</td>\n",
       "      <td>-87.562283</td>\n",
       "      <td>30.180394</td>\n",
       "      <td>NaN</td>\n",
       "      <td>NaN</td>\n",
       "      <td>NaN</td>\n",
       "      <td>NaN</td>\n",
       "      <td>NaN</td>\n",
       "      <td>NaN</td>\n",
       "      <td>NaN</td>\n",
       "      <td>NaN</td>\n",
       "      <td>NaN</td>\n",
       "    </tr>\n",
       "  </tbody>\n",
       "</table>\n",
       "<p>88 rows × 12 columns</p>\n",
       "</div>"
      ],
      "text/plain": [
       "                           SWS        LON        LAT         RALT      RANG  \\\n",
       "time                                                                          \n",
       "2019-08-30 23:13:26        NaN -80.049622  25.432395          NaN       NaN   \n",
       "2019-08-30 23:17:51   9.911955 -79.805364  25.515227  5755.680455  0.395718   \n",
       "2019-08-30 23:21:58  11.222692 -79.565048  25.604327  6668.142308  0.574760   \n",
       "2019-08-30 23:24:37  11.239516 -79.404194  25.663065  7113.509677  0.082871   \n",
       "2019-08-30 23:29:48  11.742303 -79.064000  25.787636  7506.378788  0.056867   \n",
       "...                        ...        ...        ...          ...       ...   \n",
       "2019-08-31 04:28:41   7.797914 -86.581583  30.007914  4564.749640  0.013698   \n",
       "2019-08-31 04:31:21   6.399420 -86.832319  30.052174  4561.036232  0.002775   \n",
       "2019-08-31 04:33:59   5.324714 -87.081571  30.096714  4506.135714 -0.195021   \n",
       "2019-08-31 04:36:41   4.744196 -87.333427  30.140629  3707.523077 -0.560860   \n",
       "2019-08-31 04:39:15        NaN -87.562283  30.180394          NaN       NaN   \n",
       "\n",
       "                         PANG      ATEMP        SST  SALN       SRR    FWS  \\\n",
       "time                                                                         \n",
       "2019-08-30 23:13:26       NaN        NaN        NaN   NaN       NaN    NaN   \n",
       "2019-08-30 23:17:51  8.773736  -5.082273  30.065000  36.0  0.337727 -999.9   \n",
       "2019-08-30 23:21:58  8.181740  -9.394087  29.908173  36.0  0.750433 -999.9   \n",
       "2019-08-30 23:24:37  8.042790 -11.747581  29.954839  36.0  0.435645 -999.9   \n",
       "2019-08-30 23:29:48  4.460612 -14.573636  29.415758  36.0  1.028364 -999.9   \n",
       "...                       ...        ...        ...   ...       ...    ...   \n",
       "2019-08-31 04:28:41  1.401309   2.500000  29.957914  36.0  0.000000 -999.9   \n",
       "2019-08-31 04:31:21  1.388616   2.349638  29.950000  36.0  0.000000 -999.9   \n",
       "2019-08-31 04:33:59  0.683200   2.383929  29.933929  36.0  0.006429 -999.9   \n",
       "2019-08-31 04:36:41 -1.236000   6.735175  29.867133  36.0  0.000000 -999.9   \n",
       "2019-08-31 04:39:15       NaN        NaN        NaN   NaN       NaN    NaN   \n",
       "\n",
       "                      FDIR  \n",
       "time                        \n",
       "2019-08-30 23:13:26    NaN  \n",
       "2019-08-30 23:17:51 -999.9  \n",
       "2019-08-30 23:21:58 -999.9  \n",
       "2019-08-30 23:24:37 -999.9  \n",
       "2019-08-30 23:29:48 -999.9  \n",
       "...                    ...  \n",
       "2019-08-31 04:28:41 -999.9  \n",
       "2019-08-31 04:31:21 -999.9  \n",
       "2019-08-31 04:33:59 -999.9  \n",
       "2019-08-31 04:36:41 -999.9  \n",
       "2019-08-31 04:39:15    NaN  \n",
       "\n",
       "[88 rows x 12 columns]"
      ]
     },
     "execution_count": 9,
     "metadata": {},
     "output_type": "execute_result"
    }
   ],
   "source": [
    "sfmr_df"
   ]
  },
  {
   "cell_type": "code",
   "execution_count": 17,
   "id": "fab49c7e-4f74-4438-b5e4-16c492f086fe",
   "metadata": {},
   "outputs": [
    {
     "data": {
      "text/plain": [
       "<matplotlib.colorbar.Colorbar at 0x7f5b686c1650>"
      ]
     },
     "execution_count": 17,
     "metadata": {},
     "output_type": "execute_result"
    },
    {
     "data": {
      "image/png": "[encoded data removed]",
      "text/plain": [
       "<Figure size 432x288 with 2 Axes>"
      ]
     },
     "metadata": {
      "needs_background": "light"
     },
     "output_type": "display_data"
    }
   ],
   "source": [
    "plt.scatter(sfmr_df['LON'], sfmr_df['LAT'], c=sfmr_df['SWS']);plt.colorbar()"
   ]
  },
  {
   "cell_type": "code",
   "execution_count": null,
   "id": "3bb365f9-3530-46cc-afef-668b4d74d9f9",
   "metadata": {},
   "outputs": [],
   "source": []
  },
  {
   "cell_type": "code",
   "execution_count": null,
   "id": "e8274746-d2e9-48d4-9e90-335096f49097",
   "metadata": {},
   "outputs": [],
   "source": []
  },
  {
   "cell_type": "code",
   "execution_count": null,
   "id": "244ef96b-646a-43e4-aa16-06aca0047762",
   "metadata": {},
   "outputs": [],
   "source": []
  },
  {
   "cell_type": "code",
   "execution_count": null,
   "id": "e4f0b985-d426-4a34-a18c-ed42788bbe36",
   "metadata": {},
   "outputs": [],
   "source": []
  }
 ],
 "metadata": {
  "kernelspec": {
   "display_name": "Python 3",
   "language": "python",
   "name": "python3"
  },
  "language_info": {
   "codemirror_mode": {
    "name": "ipython",
    "version": 3
   },
   "file_extension": ".py",
   "mimetype": "text/x-python",
   "name": "python",
   "nbconvert_exporter": "python",
   "pygments_lexer": "ipython3",
   "version": "3.7.15"
  }
 },
 "nbformat": 4,
 "nbformat_minor": 5
}
