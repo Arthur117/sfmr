{
 "cells": [
  {
   "cell_type": "code",
   "execution_count": 1,
   "id": "d1a30673-e450-4e1e-9c65-c6e56baaec47",
   "metadata": {},
   "outputs": [],
   "source": [
    "# conda activate sfmr\n",
    "import os\n",
    "import __init__ as f\n",
    "import xarray as xr\n",
    "import pandas as pd\n",
    "import numpy as np\n",
    "import matplotlib.pyplot as plt\n",
    "from pyproj import CRS, Geod\n",
    "import glob\n",
    "from tqdm import tqdm\n",
    "from pathlib import Path"
   ]
  },
  {
   "cell_type": "code",
   "execution_count": 2,
   "id": "02b5b3d5-9b88-4928-a94c-68e7ae840083",
   "metadata": {},
   "outputs": [],
   "source": [
    "# CAVEAT: \n",
    "# I have an error with this SFMR files:\n",
    "# '/home/arthur/data/cyclobs/sfmr/noaa_nesdis_star/1.2.0/2021/SFMR210829US006_1-level2.nc'\n",
    "# '/home/arthur/data/cyclobs/sfmr/noaa_nesdis_star/1.2.0/2021/SFMR210820US019-level2.nc'\n",
    "# So I skipped it during my collocation procedure"
   ]
  },
  {
   "cell_type": "code",
   "execution_count": 3,
   "id": "81f1fd19-0805-4a56-9130-027fc21483a2",
   "metadata": {},
   "outputs": [],
   "source": [
    "### PATHS\n",
    "PTHS = {\n",
    "    'sat_dir':        '/home/arthur/data/**/KNMI/product_JF_rotated_filtered/POLAR/',\n",
    "    'sfm_dir_noaa':   '/home/arthur/data/cyclobs/sfmr/noaa_aoml_hrd/',  \n",
    "    'sfm_dir_nesdis': '/home/arthur/data/cyclobs/sfmr/noaa_nesdis_star/1.2.0/',\n",
    "    'sav_dir':        '/home/arthur/data/cyclobs/sfmr/colloc_sfmr_radScat/'\n",
    "}\n",
    "\n",
    "### PARAMS\n",
    "PRMS = {\n",
    "    'delta_t': 120,                         # SFMR data will be cropped around +/- 120min around the satellite acquisition\n",
    "    'r_ref':   np.linspace(0, 800000, 801), # Ref. grid\n",
    "    'dr_min':  5000,                        # ds_sfmr after interpolation must contain valid values for radii lower  than 5,000 km\n",
    "    'dr_max':  200000,                      # ds_sfmr after interpolation must contain valid values for radii higher than 200,000 km\n",
    "    'save':    True\n",
    "}"
   ]
  },
  {
   "cell_type": "code",
   "execution_count": 4,
   "id": "4e8940c8-927a-45ba-8880-b7a2cc75277f",
   "metadata": {},
   "outputs": [],
   "source": [
    "# # SFMR\n",
    "# p_sfmr  = '/home/arthur/data/cyclobs/sfmr/noaa_aoml_hrd/2019/dorian/AFRC_SFMR20190830U3.nc'\n",
    "# ds_sfmr = xr.open_dataset(p_sfmr)\n",
    "# ds_sfmr = ds_sfmr.where(ds_sfmr.SWS >= 0, drop=True) # SFMR SWS contains NaN values (labelled -999.9)\n",
    "# print('Time interval: ', ds_sfmr.attrs['TimeInterval'])"
   ]
  },
  {
   "cell_type": "code",
   "execution_count": 5,
   "id": "d43f4322-2058-4b4c-8509-17a5fb9256b9",
   "metadata": {},
   "outputs": [],
   "source": [
    "# # SCAT or RAD\n",
    "# p_sct  = '/home/arthur/data/scatterometer/KNMI/product_JF_rotated_filtered/POLAR/2019/AL052019/POL_ascat_20190831_013900_metopb_36063_srv_o_125_ovw.nc'\n",
    "# ds_sct = xr.open_dataset(p_sct)\n",
    "# P_SCT  = '/home/arthur/data/scatterometer/KNMI/product_JF/' + ds_sct.data_file.item()\n",
    "# DS_SCT = xr.open_dataset(P_SCT)"
   ]
  },
  {
   "cell_type": "code",
   "execution_count": 6,
   "id": "1ade1801-2269-4e08-97f5-a53b788cf3ae",
   "metadata": {},
   "outputs": [],
   "source": [
    "# p = '/home/arthur/data/radiometer/KNMI/product_JF_rotated_filtered/POLAR/2019/AL052019/POL_SM_REPR_MIR_SCNFSW_20190904T100421_20190904T105819_300_301_7.nc'\n",
    "# a = xr.open_dataset(p)"
   ]
  },
  {
   "cell_type": "code",
   "execution_count": 7,
   "id": "ec5b8042-2f18-40e1-8694-091e2e249bc5",
   "metadata": {},
   "outputs": [],
   "source": [
    "# def preprocess_time(t):\n",
    "#     if len(t) == 5:\n",
    "#         return '0' + t\n",
    "#     else:\n",
    "#         return t\n",
    "\n",
    "def get_mission(pth):\n",
    "    return pth.split('/')[6]\n",
    "\n",
    "def get_var_names(pth):\n",
    "    if get_mission(pth) == 'noaa_aoml_hrd':\n",
    "        return ['LON', 'LAT', 'SWS']\n",
    "    if get_mission(pth) == 'noaa_nesdis_star':\n",
    "        return ['longitude', 'latitude', 'wind_speed']\n",
    "    \n",
    "def preprocess_sfmr(pth):\n",
    "    # Open SFMR & get start/end dates\n",
    "    if get_mission(pth) == 'noaa_aoml_hrd':\n",
    "        subset    = ['DATE', 'TIME', 'LON', 'LAT', 'SWS']\n",
    "        ds_sfmr   = xr.open_dataset(pth)[subset]\n",
    "        ds_sfmr   = ds_sfmr.where(ds_sfmr.SWS >= 0, drop=True) # SFMR SWS contains NaN values (labelled -999.9)\n",
    "        sttDate   = ds_sfmr.DATE[0].astype(str).item()[:8]\n",
    "        endDate   = ds_sfmr.DATE[-2].astype(str).item()[:8]\n",
    "    if get_mission(pth) == 'noaa_nesdis_star':\n",
    "        subset    = ['time', 'longitude', 'latitude', 'wind_speed']\n",
    "        ds_sfmr   = xr.open_dataset(pth)[subset] \n",
    "        sttDate   = '{}{:02d}{:02d}'.format(pd.to_datetime(ds_sfmr.time[0].data).year,  pd.to_datetime(ds_sfmr.time[0].data).month,  pd.to_datetime(ds_sfmr.time[0].data).day)\n",
    "        endDate   = '{}{:02d}{:02d}'.format(pd.to_datetime(ds_sfmr.time[-1].data).year, pd.to_datetime(ds_sfmr.time[-1].data).month, pd.to_datetime(ds_sfmr.time[-1].data).day)\n",
    "        \n",
    "    # Find satellite paths based on start and end dates of flight, and then concatenate (without duplicate values)\n",
    "    sat_pths1 = glob.glob(PTHS['sat_dir'] + '{}/**/*_{}*.nc'.format(sttDate[:4], sttDate), recursive=True)\n",
    "    sat_pths2 = glob.glob(PTHS['sat_dir'] + '{}/**/*_{}*.nc'.format(endDate[:4], endDate), recursive=True)\n",
    "    sat_pths3 = glob.glob(PTHS['sat_dir'] + '{}/**/*_{}-{}-{}*.nc'.format(sttDate[:4], sttDate[:4], sttDate[4:6], sttDate[6:8]), recursive=True)\n",
    "    sat_pths4 = glob.glob(PTHS['sat_dir'] + '{}/**/*_{}-{}-{}*.nc'.format(endDate[:4], endDate[:4], endDate[4:6], endDate[6:8]), recursive=True)\n",
    "    sat_pths5 = glob.glob(PTHS['sat_dir'] + '{}/**/*_{}_{}_{}*.nc'.format(sttDate[:4], sttDate[:4], sttDate[4:6], sttDate[6:8]), recursive=True)\n",
    "    sat_pths6 = glob.glob(PTHS['sat_dir'] + '{}/**/*_{}_{}_{}*.nc'.format(endDate[:4], endDate[:4], endDate[4:6], endDate[6:8]), recursive=True)\n",
    "    sat_pths  = sorted(list(set(sat_pths1 + sat_pths2 + sat_pths3 + sat_pths4 + sat_pths5 + sat_pths6))) # remove duplicates\n",
    "\n",
    "    # Start dateTime of SFMR\n",
    "    if get_mission(pth) == 'noaa_aoml_hrd':\n",
    "        # sttTime, endTime =  preprocess_time(ds_sfmr.TIME[0].astype(str).item()[:-2]), preprocess_time(ds_sfmr.TIME[-1].astype(str).item()[:-2])\n",
    "        sttTime = '{:06d}'.format(ds_sfmr.TIME[0].astype(int).item())\n",
    "        endTime = '{:06d}'.format(ds_sfmr.TIME[-1].astype(int).item())\n",
    "        print(sttTime, endTime, endDate)\n",
    "    if get_mission(pth) == 'noaa_nesdis_star':    \n",
    "        sttTime = '{:02d}{:02d}{:02d}'.format(pd.to_datetime(ds_sfmr.time[0].data).hour,  pd.to_datetime(ds_sfmr.time[0].data).minute,  pd.to_datetime(ds_sfmr.time[0].data).second)\n",
    "        endTime = '{:02d}{:02d}{:02d}'.format(pd.to_datetime(ds_sfmr.time[-1].data).hour, pd.to_datetime(ds_sfmr.time[-1].data).minute, pd.to_datetime(ds_sfmr.time[-1].data).second)  \n",
    "    dtt_str_stt      = '{}-{}-{}T{}:{}:{}'.format(sttDate[:4], sttDate[4:6], sttDate[6:], sttTime[:2], sttTime[2:4], sttTime[4:6])\n",
    "    dtt_str_end      = '{}-{}-{}T{}:{}:{}'.format(endDate[:4], endDate[4:6], endDate[6:], endTime[:2], endTime[2:4], endTime[4:6])\n",
    "    dtt_sfmr_stt     = np.datetime64(dtt_str_stt)\n",
    "    dtt_sfmr_end     = np.datetime64(dtt_str_end)\n",
    "\n",
    "    return ds_sfmr, sat_pths, dtt_sfmr_stt, dtt_sfmr_end"
   ]
  },
  {
   "cell_type": "code",
   "execution_count": 8,
   "id": "55d4a55a-bee0-4706-bdbb-f09b9bde1764",
   "metadata": {},
   "outputs": [],
   "source": [
    "# ds_sfmr = xr.open_dataset(sfm_pths[0])[['time', 'longitude', 'latitude', 'wind_speed']]\n",
    "\n",
    "# # Find satellite paths based on start and end dates of flight, and then concatenate (without duplicate values)\n",
    "# sat_pths1 = glob.glob(PTHS['sat_dir'] + '{}/**/*_{}*.nc'.format(sttDate[:4], sttDate), recursive=True)\n",
    "# sat_pths2 = glob.glob(PTHS['sat_dir'] + '{}/**/*_{}*.nc'.format(endDate[:4], endDate), recursive=True)\n",
    "# sat_pths3 = glob.glob(PTHS['sat_dir'] + '{}/**/*_{}-{}-{}*.nc'.format(sttDate[:4], sttDate[:4], sttDate[4:6], sttDate[6:8]), recursive=True)\n",
    "# sat_pths4 = glob.glob(PTHS['sat_dir'] + '{}/**/*_{}-{}-{}*.nc'.format(endDate[:4], endDate[:4], endDate[4:6], endDate[6:8]), recursive=True)\n",
    "# sat_pths5 = glob.glob(PTHS['sat_dir'] + '{}/**/*_{}_{}_{}*.nc'.format(sttDate[:4], sttDate[:4], sttDate[4:6], sttDate[6:8]), recursive=True)\n",
    "# sat_pths6 = glob.glob(PTHS['sat_dir'] + '{}/**/*_{}_{}_{}*.nc'.format(endDate[:4], endDate[:4], endDate[4:6], endDate[6:8]), recursive=True)\n",
    "# sat_pths  = sorted(list(set(sat_pths1 + sat_pths2 + sat_pths3 + sat_pths4 + sat_pths5 + sat_pths6))) # remove duplicates\n",
    "\n",
    "# # Start dateTime of SFMR\n",
    "\n",
    "# # dtt_str_stt      = '{}-{}-{}T{}:{}:{}'.format(sttDate[:4], sttDate[4:6], sttDate[6:], sttTime[:2], sttTime[2:4], sttTime[4:6])\n",
    "# # dtt_str_end      = '{}-{}-{}T{}:{}:{}'.format(endDate[:4], endDate[4:6], endDate[6:], endTime[:2], endTime[2:4], endTime[4:6])\n",
    "# # dtt_sfmr_stt     = np.datetime64(dtt_str_stt)\n",
    "# # dtt_sfmr_end     = np.datetime64(dtt_str_end)"
   ]
  },
  {
   "cell_type": "code",
   "execution_count": 17,
   "id": "a21da318-c11d-490f-9e3c-f07167a28d27",
   "metadata": {},
   "outputs": [
    {
     "name": "stderr",
     "output_type": "stream",
     "text": [
      "  0%|          | 0/1495 [00:00<?, ?it/s]INFO:coloc_config.py:/home/arthur/data/cyclobs/sfmr/noaa_aoml_hrd/2019/dorian/NOAA_SFMR20190905H2.nc\n"
     ]
    },
    {
     "name": "stdout",
     "output_type": "stream",
     "text": [
      "195338 021250 20190906\n"
     ]
    },
    {
     "name": "stderr",
     "output_type": "stream",
     "text": [
      "INFO:coloc_config.py:timing sfmr_resample : 0.0s. mem: +0.0Mb\n",
      "INFO:coloc_config.py:timing spatial_downsample : 0.0s. mem: +0.0Mb\n",
      "INFO:coloc_config.py:timing sfmr_translate : 0.4s. mem: -13.9Mb\n",
      "  0%|          | 0/1495 [00:10<?, ?it/s]\n"
     ]
    },
    {
     "ename": "InvalidIndexError",
     "evalue": "Reindexing only valid with uniquely valued Index objects",
     "output_type": "error",
     "traceback": [
      "\u001b[0;31m---------------------------------------------------------------------------\u001b[0m",
      "\u001b[0;31mInvalidIndexError\u001b[0m                         Traceback (most recent call last)",
      "\u001b[0;32m<ipython-input-17-8a7e633352d0>\u001b[0m in \u001b[0;36m<module>\u001b[0;34m\u001b[0m\n\u001b[1;32m     79\u001b[0m                                 \u001b[0mdss\u001b[0m\u001b[0;34m[\u001b[0m\u001b[0;34m'time'\u001b[0m\u001b[0;34m]\u001b[0m \u001b[0;34m=\u001b[0m \u001b[0mdr\u001b[0m\u001b[0;34m\u001b[0m\u001b[0;34m\u001b[0m\u001b[0m\n\u001b[1;32m     80\u001b[0m                                 \u001b[0mdss\u001b[0m         \u001b[0;34m=\u001b[0m \u001b[0mdss\u001b[0m\u001b[0;34m.\u001b[0m\u001b[0mrename_dims\u001b[0m\u001b[0;34m(\u001b[0m\u001b[0;34m{\u001b[0m\u001b[0;34m'time'\u001b[0m\u001b[0;34m:\u001b[0m \u001b[0;34m'dr'\u001b[0m\u001b[0;34m}\u001b[0m\u001b[0;34m)\u001b[0m\u001b[0;34m.\u001b[0m\u001b[0mrename\u001b[0m\u001b[0;34m(\u001b[0m\u001b[0;34m{\u001b[0m\u001b[0;34m'time'\u001b[0m\u001b[0;34m:\u001b[0m \u001b[0;34m'dr'\u001b[0m\u001b[0;34m}\u001b[0m\u001b[0;34m)\u001b[0m\u001b[0;34m\u001b[0m\u001b[0;34m\u001b[0m\u001b[0m\n\u001b[0;32m---> 81\u001b[0;31m                                 \u001b[0mdss\u001b[0m         \u001b[0;34m=\u001b[0m \u001b[0mdss\u001b[0m\u001b[0;34m.\u001b[0m\u001b[0minterp\u001b[0m\u001b[0;34m(\u001b[0m\u001b[0;34m{\u001b[0m\u001b[0;34m'dr'\u001b[0m\u001b[0;34m:\u001b[0m \u001b[0mPRMS\u001b[0m\u001b[0;34m[\u001b[0m\u001b[0;34m'r_ref'\u001b[0m\u001b[0;34m]\u001b[0m\u001b[0;34m}\u001b[0m\u001b[0;34m)\u001b[0m\u001b[0;34m\u001b[0m\u001b[0;34m\u001b[0m\u001b[0m\n\u001b[0m\u001b[1;32m     82\u001b[0m \u001b[0;34m\u001b[0m\u001b[0m\n\u001b[1;32m     83\u001b[0m                                 \u001b[0;31m# Save\u001b[0m\u001b[0;34m\u001b[0m\u001b[0;34m\u001b[0m\u001b[0;34m\u001b[0m\u001b[0m\n",
      "\u001b[0;32m~/anaconda3/envs/sfmr/lib/python3.7/site-packages/xarray/core/dataset.py\u001b[0m in \u001b[0;36minterp\u001b[0;34m(self, coords, method, assume_sorted, kwargs, method_non_numeric, **coords_kwargs)\u001b[0m\n\u001b[1;32m   3163\u001b[0m         \u001b[0;32mif\u001b[0m \u001b[0mmethod\u001b[0m \u001b[0;32min\u001b[0m \u001b[0;34m[\u001b[0m\u001b[0;34m\"linear\"\u001b[0m\u001b[0;34m,\u001b[0m \u001b[0;34m\"nearest\"\u001b[0m\u001b[0;34m]\u001b[0m\u001b[0;34m:\u001b[0m\u001b[0;34m\u001b[0m\u001b[0;34m\u001b[0m\u001b[0m\n\u001b[1;32m   3164\u001b[0m             \u001b[0;32mfor\u001b[0m \u001b[0mk\u001b[0m\u001b[0;34m,\u001b[0m \u001b[0mv\u001b[0m \u001b[0;32min\u001b[0m \u001b[0mvalidated_indexers\u001b[0m\u001b[0;34m.\u001b[0m\u001b[0mitems\u001b[0m\u001b[0;34m(\u001b[0m\u001b[0;34m)\u001b[0m\u001b[0;34m:\u001b[0m\u001b[0;34m\u001b[0m\u001b[0;34m\u001b[0m\u001b[0m\n\u001b[0;32m-> 3165\u001b[0;31m                 \u001b[0mobj\u001b[0m\u001b[0;34m,\u001b[0m \u001b[0mnewidx\u001b[0m \u001b[0;34m=\u001b[0m \u001b[0mmissing\u001b[0m\u001b[0;34m.\u001b[0m\u001b[0m_localize\u001b[0m\u001b[0;34m(\u001b[0m\u001b[0mobj\u001b[0m\u001b[0;34m,\u001b[0m \u001b[0;34m{\u001b[0m\u001b[0mk\u001b[0m\u001b[0;34m:\u001b[0m \u001b[0mv\u001b[0m\u001b[0;34m}\u001b[0m\u001b[0;34m)\u001b[0m\u001b[0;34m\u001b[0m\u001b[0;34m\u001b[0m\u001b[0m\n\u001b[0m\u001b[1;32m   3166\u001b[0m                 \u001b[0mvalidated_indexers\u001b[0m\u001b[0;34m[\u001b[0m\u001b[0mk\u001b[0m\u001b[0;34m]\u001b[0m \u001b[0;34m=\u001b[0m \u001b[0mnewidx\u001b[0m\u001b[0;34m[\u001b[0m\u001b[0mk\u001b[0m\u001b[0;34m]\u001b[0m\u001b[0;34m\u001b[0m\u001b[0;34m\u001b[0m\u001b[0m\n\u001b[1;32m   3167\u001b[0m \u001b[0;34m\u001b[0m\u001b[0m\n",
      "\u001b[0;32m~/anaconda3/envs/sfmr/lib/python3.7/site-packages/xarray/core/missing.py\u001b[0m in \u001b[0;36m_localize\u001b[0;34m(var, indexes_coords)\u001b[0m\n\u001b[1;32m    564\u001b[0m         \u001b[0mmaxval\u001b[0m \u001b[0;34m=\u001b[0m \u001b[0mnp\u001b[0m\u001b[0;34m.\u001b[0m\u001b[0mnanmax\u001b[0m\u001b[0;34m(\u001b[0m\u001b[0mnew_x\u001b[0m\u001b[0;34m.\u001b[0m\u001b[0mvalues\u001b[0m\u001b[0;34m)\u001b[0m\u001b[0;34m\u001b[0m\u001b[0;34m\u001b[0m\u001b[0m\n\u001b[1;32m    565\u001b[0m         \u001b[0mindex\u001b[0m \u001b[0;34m=\u001b[0m \u001b[0mx\u001b[0m\u001b[0;34m.\u001b[0m\u001b[0mto_index\u001b[0m\u001b[0;34m(\u001b[0m\u001b[0;34m)\u001b[0m\u001b[0;34m\u001b[0m\u001b[0;34m\u001b[0m\u001b[0m\n\u001b[0;32m--> 566\u001b[0;31m         \u001b[0mimin\u001b[0m \u001b[0;34m=\u001b[0m \u001b[0mindex\u001b[0m\u001b[0;34m.\u001b[0m\u001b[0mget_loc\u001b[0m\u001b[0;34m(\u001b[0m\u001b[0mminval\u001b[0m\u001b[0;34m,\u001b[0m \u001b[0mmethod\u001b[0m\u001b[0;34m=\u001b[0m\u001b[0;34m\"nearest\"\u001b[0m\u001b[0;34m)\u001b[0m\u001b[0;34m\u001b[0m\u001b[0;34m\u001b[0m\u001b[0m\n\u001b[0m\u001b[1;32m    567\u001b[0m         \u001b[0mimax\u001b[0m \u001b[0;34m=\u001b[0m \u001b[0mindex\u001b[0m\u001b[0;34m.\u001b[0m\u001b[0mget_loc\u001b[0m\u001b[0;34m(\u001b[0m\u001b[0mmaxval\u001b[0m\u001b[0;34m,\u001b[0m \u001b[0mmethod\u001b[0m\u001b[0;34m=\u001b[0m\u001b[0;34m\"nearest\"\u001b[0m\u001b[0;34m)\u001b[0m\u001b[0;34m\u001b[0m\u001b[0;34m\u001b[0m\u001b[0m\n\u001b[1;32m    568\u001b[0m \u001b[0;34m\u001b[0m\u001b[0m\n",
      "\u001b[0;32m~/anaconda3/envs/sfmr/lib/python3.7/site-packages/pandas/core/indexes/base.py\u001b[0m in \u001b[0;36mget_loc\u001b[0;34m(self, key, method, tolerance)\u001b[0m\n\u001b[1;32m   3369\u001b[0m             \u001b[0mtolerance\u001b[0m \u001b[0;34m=\u001b[0m \u001b[0mself\u001b[0m\u001b[0;34m.\u001b[0m\u001b[0m_convert_tolerance\u001b[0m\u001b[0;34m(\u001b[0m\u001b[0mtolerance\u001b[0m\u001b[0;34m,\u001b[0m \u001b[0mnp\u001b[0m\u001b[0;34m.\u001b[0m\u001b[0masarray\u001b[0m\u001b[0;34m(\u001b[0m\u001b[0mkey\u001b[0m\u001b[0;34m)\u001b[0m\u001b[0;34m)\u001b[0m\u001b[0;34m\u001b[0m\u001b[0;34m\u001b[0m\u001b[0m\n\u001b[1;32m   3370\u001b[0m \u001b[0;34m\u001b[0m\u001b[0m\n\u001b[0;32m-> 3371\u001b[0;31m         \u001b[0mindexer\u001b[0m \u001b[0;34m=\u001b[0m \u001b[0mself\u001b[0m\u001b[0;34m.\u001b[0m\u001b[0mget_indexer\u001b[0m\u001b[0;34m(\u001b[0m\u001b[0;34m[\u001b[0m\u001b[0mkey\u001b[0m\u001b[0;34m]\u001b[0m\u001b[0;34m,\u001b[0m \u001b[0mmethod\u001b[0m\u001b[0;34m=\u001b[0m\u001b[0mmethod\u001b[0m\u001b[0;34m,\u001b[0m \u001b[0mtolerance\u001b[0m\u001b[0;34m=\u001b[0m\u001b[0mtolerance\u001b[0m\u001b[0;34m)\u001b[0m\u001b[0;34m\u001b[0m\u001b[0;34m\u001b[0m\u001b[0m\n\u001b[0m\u001b[1;32m   3372\u001b[0m         \u001b[0;32mif\u001b[0m \u001b[0mindexer\u001b[0m\u001b[0;34m.\u001b[0m\u001b[0mndim\u001b[0m \u001b[0;34m>\u001b[0m \u001b[0;36m1\u001b[0m \u001b[0;32mor\u001b[0m \u001b[0mindexer\u001b[0m\u001b[0;34m.\u001b[0m\u001b[0msize\u001b[0m \u001b[0;34m>\u001b[0m \u001b[0;36m1\u001b[0m\u001b[0;34m:\u001b[0m\u001b[0;34m\u001b[0m\u001b[0;34m\u001b[0m\u001b[0m\n\u001b[1;32m   3373\u001b[0m             \u001b[0;32mraise\u001b[0m \u001b[0mTypeError\u001b[0m\u001b[0;34m(\u001b[0m\u001b[0;34m\"get_loc requires scalar valued input\"\u001b[0m\u001b[0;34m)\u001b[0m\u001b[0;34m\u001b[0m\u001b[0;34m\u001b[0m\u001b[0m\n",
      "\u001b[0;32m~/anaconda3/envs/sfmr/lib/python3.7/site-packages/pandas/core/indexes/base.py\u001b[0m in \u001b[0;36mget_indexer\u001b[0;34m(self, target, method, limit, tolerance)\u001b[0m\n\u001b[1;32m   3440\u001b[0m \u001b[0;34m\u001b[0m\u001b[0m\n\u001b[1;32m   3441\u001b[0m         \u001b[0;32mif\u001b[0m \u001b[0;32mnot\u001b[0m \u001b[0mself\u001b[0m\u001b[0;34m.\u001b[0m\u001b[0m_index_as_unique\u001b[0m\u001b[0;34m:\u001b[0m\u001b[0;34m\u001b[0m\u001b[0;34m\u001b[0m\u001b[0m\n\u001b[0;32m-> 3442\u001b[0;31m             \u001b[0;32mraise\u001b[0m \u001b[0mInvalidIndexError\u001b[0m\u001b[0;34m(\u001b[0m\u001b[0mself\u001b[0m\u001b[0;34m.\u001b[0m\u001b[0m_requires_unique_msg\u001b[0m\u001b[0;34m)\u001b[0m\u001b[0;34m\u001b[0m\u001b[0;34m\u001b[0m\u001b[0m\n\u001b[0m\u001b[1;32m   3443\u001b[0m \u001b[0;34m\u001b[0m\u001b[0m\n\u001b[1;32m   3444\u001b[0m         \u001b[0;32mif\u001b[0m \u001b[0;32mnot\u001b[0m \u001b[0mself\u001b[0m\u001b[0;34m.\u001b[0m\u001b[0m_should_compare\u001b[0m\u001b[0;34m(\u001b[0m\u001b[0mtarget\u001b[0m\u001b[0;34m)\u001b[0m \u001b[0;32mand\u001b[0m \u001b[0;32mnot\u001b[0m \u001b[0mis_interval_dtype\u001b[0m\u001b[0;34m(\u001b[0m\u001b[0mself\u001b[0m\u001b[0;34m.\u001b[0m\u001b[0mdtype\u001b[0m\u001b[0;34m)\u001b[0m\u001b[0;34m:\u001b[0m\u001b[0;34m\u001b[0m\u001b[0;34m\u001b[0m\u001b[0m\n",
      "\u001b[0;31mInvalidIndexError\u001b[0m: Reindexing only valid with uniquely valued Index objects"
     ]
    }
   ],
   "source": [
    "sfm_pths_noaa   = glob.glob(PTHS['sfm_dir_noaa'] + '**/*.nc', recursive=True)\n",
    "sfm_pths_nesdis = glob.glob(PTHS['sfm_dir_nesdis'] + '**/*.nc', recursive=True)\n",
    "sfm_pths        = sfm_pths_nesdis + sfm_pths_noaa # Reverse order once debugged\n",
    "# subset          = ['DATE', 'TIME', 'LON', 'LAT', 'SWS']\n",
    "\n",
    "for sfm_pth in tqdm(sfm_pths[103+106+204+574+59+130:]):\n",
    "#     ds_sfmr = xr.open_dataset(sfm_pth)[subset]\n",
    "#     ds_sfmr = ds_sfmr.where(ds_sfmr.SWS >= 0, drop=True) # SFMR SWS contains NaN values (labelled -999.9)\n",
    "#     sttDate = ds_sfmr.DATE[0].astype(str).item()[:8]\n",
    "#     endDate = ds_sfmr.DATE[-1].astype(str).item()[:8]\n",
    "#     # Find satellite paths based on start and end dates of flight, and then concatenate (without duplicate values)\n",
    "#     sat_pths1 = glob.glob(PTHS['sat_dir'] + '{}/**/*_{}*.nc'.format(sttDate[:4], sttDate), recursive=True)\n",
    "#     sat_pths2 = glob.glob(PTHS['sat_dir'] + '{}/**/*_{}*.nc'.format(endDate[:4], endDate), recursive=True)\n",
    "#     sat_pths3 = glob.glob(PTHS['sat_dir'] + '{}/**/*_{}-{}-{}*.nc'.format(sttDate[:4], sttDate[:4], sttDate[4:6], sttDate[6:8]), recursive=True)\n",
    "#     sat_pths4 = glob.glob(PTHS['sat_dir'] + '{}/**/*_{}-{}-{}*.nc'.format(endDate[:4], endDate[:4], endDate[4:6], endDate[6:8]), recursive=True)\n",
    "#     sat_pths5 = glob.glob(PTHS['sat_dir'] + '{}/**/*_{}_{}_{}*.nc'.format(sttDate[:4], sttDate[:4], sttDate[4:6], sttDate[6:8]), recursive=True)\n",
    "#     sat_pths6 = glob.glob(PTHS['sat_dir'] + '{}/**/*_{}_{}_{}*.nc'.format(endDate[:4], endDate[:4], endDate[4:6], endDate[6:8]), recursive=True)\n",
    "#     sat_pths  = sorted(list(set(sat_pths1 + sat_pths2 + sat_pths3 + sat_pths4 + sat_pths5 + sat_pths6))) # remove duplicates\n",
    "    \n",
    "#     # Start dateTime of SFMR\n",
    "#     sttTime, endTime =  preprocess_time(ds_sfmr.TIME[0].astype(str).item()[:-2]), preprocess_time(ds_sfmr.TIME[-1].astype(str).item()[:-2])\n",
    "#     dtt_str_stt      = '{}-{}-{}T{}:{}:{}'.format(sttDate[:4], sttDate[4:6], sttDate[6:], sttTime[:2], sttTime[2:4], sttTime[4:6])\n",
    "#     dtt_str_end      = '{}-{}-{}T{}:{}:{}'.format(endDate[:4], endDate[4:6], endDate[6:], endTime[:2], endTime[2:4], endTime[4:6])\n",
    "#     dtt_sfmr_stt     = np.datetime64(dtt_str_stt)\n",
    "#     dtt_sfmr_end     = np.datetime64(dtt_str_end)\n",
    "\n",
    "    try:\n",
    "        ds_sfmr, sat_pths, dtt_sfmr_stt, dtt_sfmr_end = preprocess_sfmr(sfm_pth)\n",
    "        sfm_lon, sfm_lat, sfm_sws                     = get_var_names(sfm_pth)\n",
    "        valid_sfm_file = True\n",
    "    except IndexError as e:\n",
    "        valid_sfm_file = False\n",
    "    \n",
    "    if valid_sfm_file:\n",
    "        # Iterate over all candidates satellite files\n",
    "        for i, sat_pth in enumerate(sat_pths):\n",
    "            ds_sat = xr.open_dataset(sat_pth)\n",
    "            dt_sfm_sat_stt = (ds_sat.acquisition_time - dtt_sfmr_stt) / np.timedelta64(1, 's') # Time diff. SAT - SFMR_START\n",
    "            dt_sfm_sat_end = (ds_sat.acquisition_time - dtt_sfmr_end) / np.timedelta64(1, 's') # Time diff. SAT - SFMR_END\n",
    "            if (dt_sfm_sat_stt >= 0) & (dt_sfm_sat_end <= 0): # SAT. acq. time must be in between\n",
    "                if (abs(((ds_sfmr[sfm_lon] % 360).mean(skipna=True) - ds_sat.lon_IBT)) <= 10) & (abs(((ds_sfmr[sfm_lat]).mean(skipna=True) - ds_sat.lat_IBT)) <= 10): # check also that it's the same storm (lon, lat)\n",
    "                    # Open Jeff's IBTrACS product (MAXSS version)\n",
    "                    DS_SAT = xr.open_dataset('/'.join(sat_pth.split('/')[:6]) + '/product_JF/' + ds_sat.data_file.item())\n",
    "                    track_df = pd.DataFrame(\n",
    "                        data={\n",
    "                            'datetime': DS_SAT.track_time,\n",
    "                            'lon':      DS_SAT.__track_lon,\n",
    "                            'lat':      DS_SAT.__track_lat,\n",
    "                        }\n",
    "                    )\n",
    "                    # Get acquisition time\n",
    "                    acq_time = ds_sat.acquisition_time.values\n",
    "                    acq_time = pd.to_datetime(acq_time.astype('datetime64[s]')) # round to nearest second and convert to datetime object\n",
    "\n",
    "                    # Put SFMR points on satellite points, accounting for storm translation\n",
    "                    try:\n",
    "                        sfmr_df  = f.prepare_sfmr(sfm_pth, track_df, acq_time)\n",
    "                        valid    = True\n",
    "                    except KeyError as e:\n",
    "                        valid = False\n",
    "                    if valid:\n",
    "                        dss      = sfmr_df.to_xarray()\n",
    "                        # Cropping at +/- 2hrs from satellite acquisition time\n",
    "                        dss      = dss.where(abs((ds_sat.acquisition_time.values - dss.time) / np.timedelta64(1, 'm')) <= PRMS['delta_t'], drop=True)\n",
    "\n",
    "                        # TODO: handle lon, lat \n",
    "                        dss[sfm_lon] = dss[sfm_lon] % 360\n",
    "\n",
    "                        ### Get (r, theta) of SFMR from TC center \n",
    "                        # Convert (lon_center, lat_center) to array \n",
    "                        lons_center = np.ones_like(dss[sfm_lon]) * float(ds_sat.lon_IBT)\n",
    "                        lats_center = np.ones_like(dss[sfm_lat]) * float(ds_sat.lat_IBT)\n",
    "                        # Get the distance between target point and center point\n",
    "                        geod_wgs84  = CRS(\"epsg:4326\").get_geod()\n",
    "                        _, _, dr    = geod_wgs84.inv(lons_center, lats_center, dss[sfm_lon], dss[sfm_lat])\n",
    "                        if len(dr) > 0:\n",
    "                            if (np.min(dr) <= PRMS['dr_min']) & (np.max(dr) >= PRMS['dr_max']):\n",
    "                                # Change dss dim/coordinates\n",
    "                                dss['time'] = dr\n",
    "                                dss         = dss.rename_dims({'time': 'dr'}).rename({'time': 'dr'})\n",
    "                                dss         = dss.interp({'dr': PRMS['r_ref']})\n",
    "\n",
    "                                # Save\n",
    "                                ds_col = xr.Dataset(\n",
    "                                    data_vars={\n",
    "                                        'sfmr_sws':         ('r', dss[sfm_sws].data),\n",
    "                                        'vmx_IBT':          ds_sat.vmx_IBT.data,\n",
    "                                        'rmx_IBT':          ds_sat.rmx_IBT.data,\n",
    "                                        'r34_IBT':          ds_sat.r34_IBT.data,\n",
    "                                        'r50_IBT':          ds_sat.r50_IBT.data,\n",
    "                                        'r64_IBT':          ds_sat.r64_IBT.data,\n",
    "                                        'lon_IBT':          ds_sat.lon_IBT.data,\n",
    "                                        'lat_IBT':          ds_sat.lat_IBT.data,\n",
    "                                        'storm_dir_IBT':    ds_sat.storm_dir_IBT.data,\n",
    "                                        'storm_speed_IBT':  ds_sat.storm_speed_IBT.data,\n",
    "                                        'atcf_id':          ds_sat.atcf_id.data,\n",
    "                                        'sat_acq_time':     ds_sat.acquisition_time.data,\n",
    "                                        'sat_file':         ds_sat.data_file.data,\n",
    "                                        'sat_mission':      ds_sat.mission.data,\n",
    "                                    },\n",
    "                                    coords={\n",
    "                                        'r': PRMS['r_ref']\n",
    "                                    }\n",
    "                                )\n",
    "\n",
    "                                # print(i)\n",
    "                                # ds_col.sfmr_sws.plot();plt.show()\n",
    "\n",
    "                                if PRMS['save']:\n",
    "                                    atcf_id = ds_sat.atcf_id.item()\n",
    "                                    # print(atcf_id)\n",
    "                                    # if atcf_id == 'AL132018':\n",
    "                                    #     break\n",
    "                                    p_sav   = Path(PTHS['sav_dir'] + '{}/{}/'.format(atcf_id[-4:], atcf_id))\n",
    "                                    p_sav.mkdir(parents=True, exist_ok=True)\n",
    "                                    ds_col.to_netcdf(PTHS['sav_dir'] + '{}/{}/{}_{}'.format(atcf_id[-4:], atcf_id, os.path.basename(sfm_pth)[:-3], os.path.basename(sat_pth)))\n",
    "                                    # ds_col.to_netcdf(PTHS['sav_dir'] + '{}_{}'.format(os.path.basename(sfm_pth)[:-3], os.path.basename(sat_pth)))"
   ]
  },
  {
   "cell_type": "code",
   "execution_count": 16,
   "id": "767183be-30c2-4cd0-82df-25cd964bc3b9",
   "metadata": {},
   "outputs": [
    {
     "data": {
      "text/plain": [
       "[<matplotlib.lines.Line2D at 0x7fbb6ac0d1d0>]"
      ]
     },
     "execution_count": 16,
     "metadata": {},
     "output_type": "execute_result"
    },
    {
     "data": {
      "image/png": "[encoded data removed]",
      "text/plain": [
       "<Figure size 432x288 with 1 Axes>"
      ]
     },
     "metadata": {
      "needs_background": "light"
     },
     "output_type": "display_data"
    }
   ],
   "source": [
    "dss.dr.plot()"
   ]
  },
  {
   "cell_type": "code",
   "execution_count": null,
   "id": "91abb6b5-4ad2-4f6b-8702-435ef08cabf6",
   "metadata": {},
   "outputs": [],
   "source": []
  },
  {
   "cell_type": "code",
   "execution_count": null,
   "id": "b19c228f-6152-40fd-a749-e8797a017c48",
   "metadata": {},
   "outputs": [],
   "source": []
  },
  {
   "cell_type": "code",
   "execution_count": null,
   "id": "e953e150-f7fe-48be-914c-b5a8c480ddba",
   "metadata": {},
   "outputs": [],
   "source": [
    "xr.open_dataset(sfm_pth).TIME"
   ]
  },
  {
   "cell_type": "code",
   "execution_count": null,
   "id": "e6578f69-97f2-4de3-8b20-d26424dda085",
   "metadata": {},
   "outputs": [],
   "source": [
    "if get_mission(pth) == 'noaa_aoml_hrd':\n",
    "    subset    = ['DATE', 'TIME', 'LON', 'LAT', 'SWS']\n",
    "    ds_sfmr   = xr.open_dataset(pth)[subset]\n",
    "    ds_sfmr   = ds_sfmr.where(ds_sfmr.SWS >= 0, drop=True) # SFMR SWS contains NaN values (labelled -999.9)\n",
    "    sttDate   = ds_sfmr.DATE[0].astype(str).item()[:8]\n",
    "    endDate   = ds_sfmr.DATE[-1].astype(str).item()[:8]"
   ]
  },
  {
   "cell_type": "code",
   "execution_count": null,
   "id": "b33f2c8f-5255-43ca-ab89-75ea18c716ef",
   "metadata": {},
   "outputs": [],
   "source": [
    "# Start dateTime of SFMR\n",
    "if get_mission(pth) == 'noaa_aoml_hrd':\n",
    "    # sttTime, endTime =  preprocess_time(ds_sfmr.TIME[0].astype(str).item()[:-2]), preprocess_time(ds_sfmr.TIME[-1].astype(str).item()[:-2])\n",
    "    sttTime = '{:06d}'.format(ds_sfmr.TIME[0].item())\n",
    "    endTime = '{:06d}'.format(ds_sfmr.TIME[-1].item())\n",
    "if get_mission(pth) == 'noaa_nesdis_star':    \n",
    "    sttTime = '{:02d}{:02d}{:02d}'.format(pd.to_datetime(ds_sfmr.time[0].data).hour,  pd.to_datetime(ds_sfmr.time[0].data).minute,  pd.to_datetime(ds_sfmr.time[0].data).second)\n",
    "    endTime = '{:02d}{:02d}{:02d}'.format(pd.to_datetime(ds_sfmr.time[-1].data).hour, pd.to_datetime(ds_sfmr.time[-1].data).minute, pd.to_datetime(ds_sfmr.time[-1].data).second)  \n",
    "dtt_str_stt      = '{}-{}-{}T{}:{}:{}'.format(sttDate[:4], sttDate[4:6], sttDate[6:], sttTime[:2], sttTime[2:4], sttTime[4:6])\n",
    "dtt_str_end      = '{}-{}-{}T{}:{}:{}'.format(endDate[:4], endDate[4:6], endDate[6:], endTime[:2], endTime[2:4], endTime[4:6])\n",
    "dtt_sfmr_stt     = np.datetime64(dtt_str_stt)\n",
    "dtt_sfmr_end     = np.datetime64(dtt_str_end)"
   ]
  },
  {
   "cell_type": "code",
   "execution_count": null,
   "id": "ab5567e3-5cbf-4df3-89b9-425565ddad45",
   "metadata": {},
   "outputs": [],
   "source": [
    "ds_sfmr = xr.open_dataset(sfm_pth)\n",
    "# preprocess_time(ds_sfmr.TIME[0].astype(str).item()[:-2]), preprocess_time(ds_sfmr.TIME[-1].astype(str).item()[:-2])"
   ]
  },
  {
   "cell_type": "code",
   "execution_count": null,
   "id": "2a96ef50-d427-4873-b0a5-828eeaea750f",
   "metadata": {},
   "outputs": [],
   "source": [
    "'{:06d}'.format(ds_sfmr.TIME[0].item())"
   ]
  },
  {
   "cell_type": "code",
   "execution_count": null,
   "id": "49975a19-9c30-425e-93f8-3cbd5cde546b",
   "metadata": {},
   "outputs": [],
   "source": [
    "ds_sfmr.TIME[-1]"
   ]
  },
  {
   "cell_type": "code",
   "execution_count": null,
   "id": "cdd2bb16-e679-42e6-b4c7-64d255136ad6",
   "metadata": {},
   "outputs": [],
   "source": [
    "sttTime = '{:06d}'.format(ds_sfmr.TIME[0].astype(int).item())\n",
    "endTime = '{:06d}'.format(ds_sfmr.TIME[-1].astype(int).item())"
   ]
  },
  {
   "cell_type": "code",
   "execution_count": null,
   "id": "caf01d36-7296-4961-be22-a8752e6ed4c6",
   "metadata": {},
   "outputs": [],
   "source": [
    "d   = ds_sfmr.where(ds_sfmr.SWS >= 0, drop=True) # SFMR SWS contains NaN values (labelled -999.9)\n",
    "        # sttDate   = ds_sfmr.DATE[0].astype(str).item()[:8]\n",
    "        # endDate   = ds_sfmr.DATE[-1].astype(str).item()[:8]"
   ]
  },
  {
   "cell_type": "code",
   "execution_count": null,
   "id": "fb6b9c66-8260-4257-be0f-e008435f4485",
   "metadata": {},
   "outputs": [],
   "source": [
    "endDate   = d.DATE[-2].astype(str).item()[:8]"
   ]
  },
  {
   "cell_type": "code",
   "execution_count": null,
   "id": "807520aa-d970-4ccf-9fba-a210877e4ad1",
   "metadata": {},
   "outputs": [],
   "source": [
    "d.DATE[-2].astype(str).item()[:8]"
   ]
  },
  {
   "cell_type": "code",
   "execution_count": null,
   "id": "2f3f287f-b489-49de-b09c-4e2d03a76320",
   "metadata": {},
   "outputs": [],
   "source": [
    "endDate"
   ]
  },
  {
   "cell_type": "code",
   "execution_count": null,
   "id": "ff1d2be0-0162-4664-bada-70c1f108fafc",
   "metadata": {},
   "outputs": [],
   "source": [
    "'{}-{}-{}T{}:{}:{}'.format(endDate[:4], endDate[4:6], endDate[6:], endTime[:2], endTime[2:4], endTime[4:6])"
   ]
  },
  {
   "cell_type": "code",
   "execution_count": null,
   "id": "49f52544-d46c-4193-a028-2a56e7f12a9d",
   "metadata": {},
   "outputs": [],
   "source": [
    "# sfm_pths[103+106+204+574:]"
   ]
  },
  {
   "cell_type": "code",
   "execution_count": null,
   "id": "b3d0f0a0-80cd-45ba-bdd4-8ee1001499d5",
   "metadata": {},
   "outputs": [],
   "source": [
    "ds_sfmr.TIME"
   ]
  },
  {
   "cell_type": "code",
   "execution_count": null,
   "id": "071f50f7-9434-4591-8551-5cd6cbb0acc0",
   "metadata": {},
   "outputs": [],
   "source": [
    "'{:06d}'.format(ds_sfmr.TIME[0].item())"
   ]
  },
  {
   "cell_type": "code",
   "execution_count": null,
   "id": "d81ad525-6984-46d0-99f5-66407dad37d3",
   "metadata": {},
   "outputs": [],
   "source": [
    "sfm_pth"
   ]
  },
  {
   "cell_type": "code",
   "execution_count": null,
   "id": "94844863-4051-40c4-9a19-ad724b274a05",
   "metadata": {},
   "outputs": [],
   "source": [
    "p = '/home/arthur/data/cyclobs/sfmr/noaa_nesdis_star/1.2.0/2021/SFMR210829US006_2-level2.nc'"
   ]
  },
  {
   "cell_type": "code",
   "execution_count": null,
   "id": "a33c0384-7409-4acf-baa0-fbba4beba7bd",
   "metadata": {},
   "outputs": [],
   "source": [
    "xr.open_dataset(p)"
   ]
  },
  {
   "cell_type": "code",
   "execution_count": null,
   "id": "0cd49c68-8928-4e17-92a2-38b39ec40bc9",
   "metadata": {},
   "outputs": [],
   "source": [
    "xr.open_dataset('/home/arthur/data/cyclobs/sfmr/noaa_nesdis_star/1.2.0/2021/SFMR210820US019-level2.nc')"
   ]
  },
  {
   "cell_type": "code",
   "execution_count": null,
   "id": "27d62f69-86d5-4bad-8a4f-d47bfedaa6c2",
   "metadata": {},
   "outputs": [],
   "source": [
    "preprocess_sfmr(sfm_pth)"
   ]
  },
  {
   "cell_type": "code",
   "execution_count": null,
   "id": "16075e0b-e8fd-4e38-bd15-77c53a6c03dd",
   "metadata": {},
   "outputs": [],
   "source": [
    "def preprocess_sfmr(pth):\n",
    "    # Open SFMR & get start/end dates\n",
    "    if get_mission(pth) == 'noaa_aoml_hrd':\n",
    "        subset    = ['DATE', 'TIME', 'LON', 'LAT', 'SWS']\n",
    "        ds_sfmr   = xr.open_dataset(pth)[subset]\n",
    "        ds_sfmr   = ds_sfmr.where(ds_sfmr.SWS >= 0, drop=True) # SFMR SWS contains NaN values (labelled -999.9)\n",
    "        sttDate   = ds_sfmr.DATE[0].astype(str).item()[:8]\n",
    "        endDate   = ds_sfmr.DATE[-1].astype(str).item()[:8]\n",
    "    if get_mission(pth) == 'noaa_nesdis_star':\n",
    "        subset    = ['time', 'longitude', 'latitude', 'wind_speed']\n",
    "        ds_sfmr   = xr.open_dataset(pth)[subset] \n",
    "        sttDate   = '{}{:02d}{:02d}'.format(pd.to_datetime(ds_sfmr.time[0].data).year,  pd.to_datetime(ds_sfmr.time[0].data).month,  pd.to_datetime(ds_sfmr.time[0].data).day)\n",
    "        endDate   = '{}{:02d}{:02d}'.format(pd.to_datetime(ds_sfmr.time[-1].data).year, pd.to_datetime(ds_sfmr.time[-1].data).month, pd.to_datetime(ds_sfmr.time[-1].data).day)\n",
    "        \n",
    "    # Find satellite paths based on start and end dates of flight, and then concatenate (without duplicate values)\n",
    "    sat_pths1 = glob.glob(PTHS['sat_dir'] + '{}/**/*_{}*.nc'.format(sttDate[:4], sttDate), recursive=True)\n",
    "    sat_pths2 = glob.glob(PTHS['sat_dir'] + '{}/**/*_{}*.nc'.format(endDate[:4], endDate), recursive=True)\n",
    "    sat_pths3 = glob.glob(PTHS['sat_dir'] + '{}/**/*_{}-{}-{}*.nc'.format(sttDate[:4], sttDate[:4], sttDate[4:6], sttDate[6:8]), recursive=True)\n",
    "    sat_pths4 = glob.glob(PTHS['sat_dir'] + '{}/**/*_{}-{}-{}*.nc'.format(endDate[:4], endDate[:4], endDate[4:6], endDate[6:8]), recursive=True)\n",
    "    sat_pths5 = glob.glob(PTHS['sat_dir'] + '{}/**/*_{}_{}_{}*.nc'.format(sttDate[:4], sttDate[:4], sttDate[4:6], sttDate[6:8]), recursive=True)\n",
    "    sat_pths6 = glob.glob(PTHS['sat_dir'] + '{}/**/*_{}_{}_{}*.nc'.format(endDate[:4], endDate[:4], endDate[4:6], endDate[6:8]), recursive=True)\n",
    "    sat_pths  = sorted(list(set(sat_pths1 + sat_pths2 + sat_pths3 + sat_pths4 + sat_pths5 + sat_pths6))) # remove duplicates\n",
    "\n",
    "    # Start dateTime of SFMR\n",
    "    if get_mission(pth) == 'noaa_aoml_hrd':\n",
    "        sttTime, endTime =  preprocess_time(ds_sfmr.TIME[0].astype(str).item()[:-2]), preprocess_time(ds_sfmr.TIME[-1].astype(str).item()[:-2])\n",
    "    if get_mission(pth) == 'noaa_nesdis_star':    \n",
    "        sttTime = '{:02d}{:02d}{:02d}'.format(pd.to_datetime(ds_sfmr.time[0].data).hour,  pd.to_datetime(ds_sfmr.time[0].data).minute,  pd.to_datetime(ds_sfmr.time[0].data).second)\n",
    "        endTime = '{:02d}{:02d}{:02d}'.format(pd.to_datetime(ds_sfmr.time[-1].data).hour, pd.to_datetime(ds_sfmr.time[-1].data).minute, pd.to_datetime(ds_sfmr.time[-1].data).second)  \n",
    "    dtt_str_stt      = '{}-{}-{}T{}:{}:{}'.format(sttDate[:4], sttDate[4:6], sttDate[6:], sttTime[:2], sttTime[2:4], sttTime[4:6])\n",
    "    dtt_str_end      = '{}-{}-{}T{}:{}:{}'.format(endDate[:4], endDate[4:6], endDate[6:], endTime[:2], endTime[2:4], endTime[4:6])\n",
    "    dtt_sfmr_stt     = np.datetime64(dtt_str_stt)\n",
    "    dtt_sfmr_end     = np.datetime64(dtt_str_end)\n",
    "\n",
    "    return ds_sfmr, sat_pths, dtt_sfmr_stt, dtt_sfmr_end"
   ]
  },
  {
   "cell_type": "code",
   "execution_count": null,
   "id": "2a679ddd-d2e2-4ebe-8110-a89bde58315a",
   "metadata": {},
   "outputs": [],
   "source": [
    "subset    = ['time', 'longitude', 'latitude', 'wind_speed']\n",
    "ds_sfmr   = xr.open_dataset(sfm_pth)[subset] "
   ]
  },
  {
   "cell_type": "code",
   "execution_count": null,
   "id": "bb124e9c-cfe4-4ad6-a189-679aa3ccb4bc",
   "metadata": {},
   "outputs": [],
   "source": [
    "ds_sfmr"
   ]
  },
  {
   "cell_type": "code",
   "execution_count": null,
   "id": "9dd3ad6d-514c-4a0d-8d05-919c838012da",
   "metadata": {},
   "outputs": [],
   "source": []
  }
 ],
 "metadata": {
  "kernelspec": {
   "display_name": "Python 3",
   "language": "python",
   "name": "python3"
  },
  "language_info": {
   "codemirror_mode": {
    "name": "ipython",
    "version": 3
   },
   "file_extension": ".py",
   "mimetype": "text/x-python",
   "name": "python",
   "nbconvert_exporter": "python",
   "pygments_lexer": "ipython3",
   "version": "3.7.15"
  }
 },
 "nbformat": 4,
 "nbformat_minor": 5
}
