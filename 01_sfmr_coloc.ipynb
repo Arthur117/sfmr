{
 "cells": [
  {
   "cell_type": "markdown",
   "id": "d809aef7-c4f0-45f2-9902-42d771b73569",
   "metadata": {},
   "source": [
    "conda activate sfmr"
   ]
  },
  {
   "cell_type": "markdown",
   "id": "e5cccdaf-dc43-4f8d-bfe8-99f12e17aa8e",
   "metadata": {},
   "source": [
    "Note: I prefer collocating SFMR first and do all the treatments in a separate notebook because it relies on the conda environment \"sfmr\" which contains specific packages.\n",
    "\n",
    "TODO: checker mes résultats de SFMR smoothé. Utiliser la liste envoyée par Théo. Ce n'est pas normal que j'ai autant de bruit. En particulier pour noaa_nesdis"
   ]
  },
  {
   "cell_type": "code",
   "execution_count": 1,
   "id": "703ae919-643c-4d50-a0e9-5fbb8b02fbf6",
   "metadata": {},
   "outputs": [],
   "source": [
    "# conda activate sfmr\n",
    "import os\n",
    "import __init__ as f\n",
    "import xarray as xr\n",
    "import pandas as pd\n",
    "import numpy as np\n",
    "import matplotlib.pyplot as plt\n",
    "from pyproj import CRS, Geod\n",
    "import glob\n",
    "from tqdm import tqdm\n",
    "from pathlib import Path\n",
    "# Own treatment\n",
    "from scipy.signal import argrelextrema\n",
    "import geopy.distance\n",
    "\n",
    "\n",
    "# Default parameters\n",
    "import matplotlib as mpl\n",
    "mpl.rcParams.update({'font.size': 18})\n",
    "mpl.rcParams['figure.figsize'] = (15, 10)\n",
    "mpl.rcParams['axes.facecolor'] = 'white'\n",
    "mpl.rcParams['figure.facecolor'] = 'white'"
   ]
  },
  {
   "cell_type": "code",
   "execution_count": 2,
   "id": "02b5b3d5-9b88-4928-a94c-68e7ae840083",
   "metadata": {},
   "outputs": [],
   "source": [
    "# CAVEAT: \n",
    "# I have an error with this SFMR files:\n",
    "# '/home/arthur/data/cyclobs/sfmr/noaa_nesdis_star/1.2.0/2021/SFMR210829US006_1-level2.nc'\n",
    "# '/home/arthur/data/cyclobs/sfmr/noaa_nesdis_star/1.2.0/2021/SFMR210820US019-level2.nc'\n",
    "# So I skipped it during my collocation procedure"
   ]
  },
  {
   "cell_type": "code",
   "execution_count": 3,
   "id": "81f1fd19-0805-4a56-9130-027fc21483a2",
   "metadata": {},
   "outputs": [],
   "source": [
    "### PATHS\n",
    "PTHS = {\n",
    "    'sat_dir':        '/home/arthur/data/**/KNMI/product_JF_rotated_filtered/POLAR/',\n",
    "    'sfm_dir':        '/home/arthur/data/cyclobs/sfmr/noaa*/',  # Take year 2010 to 2020\n",
    "    'sav_dir':        '/home/arthur/data/cyclobs/sfmr/colloc_sfmr_radScat/',\n",
    "    'sav_fig_dir':    '/home/arthur/results/sfmr/figs/',\n",
    "}\n",
    "\n",
    "### PARAMS\n",
    "PRMS = {\n",
    "    'delta_t':   120,                         # SFMR data will be cropped around +/- 120min around the satellite acquisition\n",
    "    'r_ref':     np.linspace(0, 800000, 801 // 3), # Ref. grid\n",
    "    'dr_min':    15000,                       # ds_sfmr after interpolation must contain valid values for radii lower  than 5,000 km\n",
    "    'dr_max':    200000,                      # ds_sfmr after interpolation must contain valid values for radii higher than 200,000 km\n",
    "    'save':      False,\n",
    "    'save_figs': False\n",
    "}"
   ]
  },
  {
   "cell_type": "code",
   "execution_count": 4,
   "id": "ec5b8042-2f18-40e1-8694-091e2e249bc5",
   "metadata": {},
   "outputs": [],
   "source": [
    "def get_mission(pth):\n",
    "    return pth.split('/')[6]\n",
    "\n",
    "def get_var_names(pth):\n",
    "    if get_mission(pth) == 'noaa_aoml_hrd':\n",
    "        return ['LON', 'LAT', 'SWS']\n",
    "    if get_mission(pth) == 'noaa_nesdis_star':\n",
    "        return ['longitude', 'latitude', 'wind_speed']\n",
    "    \n",
    "def preprocess_sfmr(pth):\n",
    "    # Open SFMR & get start/end dates\n",
    "    if get_mission(pth) == 'noaa_aoml_hrd':\n",
    "        subset    = ['DATE', 'TIME', 'LON', 'LAT', 'SWS']\n",
    "        ds_sfmr   = xr.open_dataset(pth)[subset]\n",
    "        ds_sfmr   = ds_sfmr.where(ds_sfmr.SWS >= 0, drop=True) # SFMR SWS contains NaN values (labelled -999.9)\n",
    "        sttDate   = ds_sfmr.DATE[0].astype(str).item()[:8]\n",
    "        endDate   = ds_sfmr.DATE[-2].astype(str).item()[:8]\n",
    "    if get_mission(pth) == 'noaa_nesdis_star':\n",
    "        subset    = ['time', 'longitude', 'latitude', 'wind_speed']\n",
    "        ds_sfmr   = xr.open_dataset(pth)[subset] \n",
    "        sttDate   = '{}{:02d}{:02d}'.format(pd.to_datetime(ds_sfmr.time[0].data).year,  pd.to_datetime(ds_sfmr.time[0].data).month,  pd.to_datetime(ds_sfmr.time[0].data).day)\n",
    "        endDate   = '{}{:02d}{:02d}'.format(pd.to_datetime(ds_sfmr.time[-1].data).year, pd.to_datetime(ds_sfmr.time[-1].data).month, pd.to_datetime(ds_sfmr.time[-1].data).day)\n",
    "        \n",
    "    # Find satellite paths based on start and end dates of flight, and then concatenate (without duplicate values)\n",
    "    sat_pths1 = glob.glob(PTHS['sat_dir'] + '{}/**/*_{}*.nc'.format(sttDate[:4], sttDate), recursive=True)\n",
    "    sat_pths2 = glob.glob(PTHS['sat_dir'] + '{}/**/*_{}*.nc'.format(endDate[:4], endDate), recursive=True)\n",
    "    sat_pths3 = glob.glob(PTHS['sat_dir'] + '{}/**/*_{}-{}-{}*.nc'.format(sttDate[:4], sttDate[:4], sttDate[4:6], sttDate[6:8]), recursive=True)\n",
    "    sat_pths4 = glob.glob(PTHS['sat_dir'] + '{}/**/*_{}-{}-{}*.nc'.format(endDate[:4], endDate[:4], endDate[4:6], endDate[6:8]), recursive=True)\n",
    "    sat_pths5 = glob.glob(PTHS['sat_dir'] + '{}/**/*_{}_{}_{}*.nc'.format(sttDate[:4], sttDate[:4], sttDate[4:6], sttDate[6:8]), recursive=True)\n",
    "    sat_pths6 = glob.glob(PTHS['sat_dir'] + '{}/**/*_{}_{}_{}*.nc'.format(endDate[:4], endDate[:4], endDate[4:6], endDate[6:8]), recursive=True)\n",
    "    sat_pths  = sorted(list(set(sat_pths1 + sat_pths2 + sat_pths3 + sat_pths4 + sat_pths5 + sat_pths6))) # remove duplicates\n",
    "\n",
    "    # Start dateTime of SFMR\n",
    "    if get_mission(pth) == 'noaa_aoml_hrd':\n",
    "        sttTime = '{:06d}'.format(ds_sfmr.TIME[0].astype(int).item())\n",
    "        endTime = '{:06d}'.format(ds_sfmr.TIME[-1].astype(int).item())\n",
    "        # print(sttTime, endTime, endDate)\n",
    "    if get_mission(pth) == 'noaa_nesdis_star':    \n",
    "        sttTime = '{:02d}{:02d}{:02d}'.format(pd.to_datetime(ds_sfmr.time[0].data).hour,  pd.to_datetime(ds_sfmr.time[0].data).minute,  pd.to_datetime(ds_sfmr.time[0].data).second)\n",
    "        endTime = '{:02d}{:02d}{:02d}'.format(pd.to_datetime(ds_sfmr.time[-1].data).hour, pd.to_datetime(ds_sfmr.time[-1].data).minute, pd.to_datetime(ds_sfmr.time[-1].data).second)  \n",
    "    dtt_str_stt      = '{}-{}-{}T{}:{}:{}'.format(sttDate[:4], sttDate[4:6], sttDate[6:], sttTime[:2], sttTime[2:4], sttTime[4:6])\n",
    "    dtt_str_end      = '{}-{}-{}T{}:{}:{}'.format(endDate[:4], endDate[4:6], endDate[6:], endTime[:2], endTime[2:4], endTime[4:6])\n",
    "    dtt_sfmr_stt     = np.datetime64(dtt_str_stt)\n",
    "    dtt_sfmr_end     = np.datetime64(dtt_str_end)\n",
    "\n",
    "    return ds_sfmr, sat_pths, dtt_sfmr_stt, dtt_sfmr_end\n",
    "\n",
    "def reject_outliers(data, m=2.):\n",
    "    d           = np.abs(data - np.median(data))\n",
    "    mdev        = np.median(d)\n",
    "    s           = d / mdev if mdev else np.zero(len(d))\n",
    "    data[s > m] = np.nan\n",
    "    return data"
   ]
  },
  {
   "cell_type": "code",
   "execution_count": 5,
   "id": "a21da318-c11d-490f-9e3c-f07167a28d27",
   "metadata": {},
   "outputs": [
    {
     "name": "stderr",
     "output_type": "stream",
     "text": [
      "  0%|          | 0/10 [00:00<?, ?it/s]INFO:coloc_config.py:/home/arthur/data/cyclobs/sfmr/noaa_aoml_hrd/2018/rosa/AFRC_SFMR20180930U1.nc\n",
      "INFO:coloc_config.py:timing sfmr_resample : 0.0s. mem: -7.7Mb\n",
      "INFO:coloc_config.py:timing spatial_downsample : 3.3s. mem: +43.4Mb\n",
      "INFO:coloc_config.py:timing sfmr_translate : 0.2s. mem: +28.1Mb\n",
      "INFO:coloc_config.py:/home/arthur/data/cyclobs/sfmr/noaa_aoml_hrd/2018/rosa/AFRC_SFMR20180930U1.nc\n",
      "INFO:coloc_config.py:timing sfmr_resample : 0.0s. mem: +0.0Mb\n",
      "INFO:coloc_config.py:timing spatial_downsample : 0.0s. mem: +0.0Mb\n",
      "INFO:coloc_config.py:timing sfmr_translate : 0.2s. mem: -20.3Mb\n",
      "INFO:coloc_config.py:/home/arthur/data/cyclobs/sfmr/noaa_aoml_hrd/2018/rosa/AFRC_SFMR20180930U1.nc\n",
      "INFO:coloc_config.py:timing sfmr_resample : 0.0s. mem: +0.0Mb\n",
      "INFO:coloc_config.py:timing spatial_downsample : 0.0s. mem: +0.0Mb\n",
      "INFO:coloc_config.py:timing sfmr_translate : 0.2s. mem: -10.8Mb\n",
      " 10%|█         | 1/10 [00:15<02:15, 15.04s/it]INFO:coloc_config.py:/home/arthur/data/cyclobs/sfmr/noaa_aoml_hrd/2018/florence/AFRC_SFMR20180910U3.nc\n",
      "INFO:coloc_config.py:timing sfmr_resample : 0.0s. mem: +0.0Mb\n",
      "INFO:coloc_config.py:timing spatial_downsample : 0.0s. mem: -0.2Mb\n",
      "INFO:coloc_config.py:timing sfmr_translate : 0.5s. mem: -20.9Mb\n",
      "INFO:coloc_config.py:/home/arthur/data/cyclobs/sfmr/noaa_aoml_hrd/2018/florence/AFRC_SFMR20180910U3.nc\n",
      "INFO:coloc_config.py:timing sfmr_resample : 0.0s. mem: +0.0Mb\n",
      "INFO:coloc_config.py:timing spatial_downsample : 0.0s. mem: +0.0Mb\n",
      "INFO:coloc_config.py:timing sfmr_translate : 0.5s. mem: -2.2Mb\n",
      "INFO:coloc_config.py:/home/arthur/data/cyclobs/sfmr/noaa_aoml_hrd/2018/florence/AFRC_SFMR20180910U3.nc\n",
      "INFO:coloc_config.py:timing sfmr_resample : 0.0s. mem: +0.0Mb\n",
      "INFO:coloc_config.py:timing spatial_downsample : 0.0s. mem: +0.0Mb\n",
      "INFO:coloc_config.py:timing sfmr_translate : 0.5s. mem: -2.2Mb\n",
      " 20%|██        | 2/10 [00:29<01:59, 14.93s/it]INFO:coloc_config.py:/home/arthur/data/cyclobs/sfmr/noaa_aoml_hrd/2018/florence/NOAA_SFMR20180909H1.nc\n",
      "INFO:coloc_config.py:timing sfmr_resample : 0.0s. mem: +0.0Mb\n",
      "INFO:coloc_config.py:timing spatial_downsample : 0.0s. mem: +0.0Mb\n",
      "INFO:coloc_config.py:timing sfmr_translate : 0.5s. mem: +26.1Mb\n",
      " 30%|███       | 3/10 [00:41<01:33, 13.39s/it]INFO:coloc_config.py:/home/arthur/data/cyclobs/sfmr/noaa_aoml_hrd/2018/florence/AFRC_SFMR20180912U1.nc\n",
      "INFO:coloc_config.py:timing sfmr_resample : 0.0s. mem: +0.0Mb\n",
      "INFO:coloc_config.py:timing spatial_downsample : 0.0s. mem: +0.0Mb\n",
      "INFO:coloc_config.py:timing sfmr_translate : 0.5s. mem: -20.7Mb\n",
      "INFO:coloc_config.py:/home/arthur/data/cyclobs/sfmr/noaa_aoml_hrd/2018/florence/AFRC_SFMR20180912U1.nc\n",
      " 30%|███       | 3/10 [00:53<02:05, 17.97s/it]\n"
     ]
    },
    {
     "ename": "KeyboardInterrupt",
     "evalue": "",
     "output_type": "error",
     "traceback": [
      "\u001b[0;31m---------------------------------------------------------------------------\u001b[0m",
      "\u001b[0;31mKeyboardInterrupt\u001b[0m                         Traceback (most recent call last)",
      "\u001b[0;32m<ipython-input-5-b4c497a38db6>\u001b[0m in \u001b[0;36m<module>\u001b[0;34m\u001b[0m\n\u001b[1;32m     36\u001b[0m                     \u001b[0;31m# Put SFMR points on satellite points, accounting for storm translation\u001b[0m\u001b[0;34m\u001b[0m\u001b[0;34m\u001b[0m\u001b[0;34m\u001b[0m\u001b[0m\n\u001b[1;32m     37\u001b[0m                     \u001b[0;32mtry\u001b[0m\u001b[0;34m:\u001b[0m\u001b[0;34m\u001b[0m\u001b[0;34m\u001b[0m\u001b[0m\n\u001b[0;32m---> 38\u001b[0;31m                         \u001b[0msfmr_df\u001b[0m  \u001b[0;34m=\u001b[0m \u001b[0mf\u001b[0m\u001b[0;34m.\u001b[0m\u001b[0mprepare_sfmr\u001b[0m\u001b[0;34m(\u001b[0m\u001b[0msfm_pth\u001b[0m\u001b[0;34m,\u001b[0m \u001b[0mtrack_df\u001b[0m\u001b[0;34m,\u001b[0m \u001b[0macq_time\u001b[0m\u001b[0;34m)\u001b[0m\u001b[0;34m\u001b[0m\u001b[0;34m\u001b[0m\u001b[0m\n\u001b[0m\u001b[1;32m     39\u001b[0m                         \u001b[0mvalid\u001b[0m    \u001b[0;34m=\u001b[0m \u001b[0;32mTrue\u001b[0m\u001b[0;34m\u001b[0m\u001b[0;34m\u001b[0m\u001b[0m\n\u001b[1;32m     40\u001b[0m                     \u001b[0;32mexcept\u001b[0m \u001b[0mKeyError\u001b[0m \u001b[0;32mas\u001b[0m \u001b[0me\u001b[0m\u001b[0;34m:\u001b[0m\u001b[0;34m\u001b[0m\u001b[0;34m\u001b[0m\u001b[0m\n",
      "\u001b[0;32m~/scripts/sfmr/__init__.py\u001b[0m in \u001b[0;36mprepare_sfmr\u001b[0;34m(sfmr_file, track_df, acq_time)\u001b[0m\n\u001b[1;32m    982\u001b[0m     \u001b[0;31m# Cleaning the dataframe to be sure we won't stumble on a NaN\u001b[0m\u001b[0;34m\u001b[0m\u001b[0;34m\u001b[0m\u001b[0;34m\u001b[0m\u001b[0m\n\u001b[1;32m    983\u001b[0m     sfmr_df = clean_sfmr(sfmr_df, sfmr_lon=sfmr_lon, sfmr_lat=sfmr_lat, sfmr_time=sfmr_time,\n\u001b[0;32m--> 984\u001b[0;31m                          sfmr_wind=sfmr_wind, sfmr_quality=sfmr_quality, sfmr_source=sfmr_source)\n\u001b[0m\u001b[1;32m    985\u001b[0m \u001b[0;34m\u001b[0m\u001b[0m\n\u001b[1;32m    986\u001b[0m     \u001b[0mexcluded_resample\u001b[0m \u001b[0;34m=\u001b[0m \u001b[0;34m[\u001b[0m\u001b[0msfmr_var_mapping_reversed\u001b[0m\u001b[0;34m[\u001b[0m\u001b[0msfmr_source\u001b[0m\u001b[0;34m]\u001b[0m\u001b[0;34m[\u001b[0m\u001b[0mv\u001b[0m\u001b[0;34m]\u001b[0m \u001b[0;32mfor\u001b[0m \u001b[0mv\u001b[0m \u001b[0;32min\u001b[0m \u001b[0msfmr_time_resample_excluded\u001b[0m\u001b[0;34m]\u001b[0m\u001b[0;34m\u001b[0m\u001b[0;34m\u001b[0m\u001b[0m\n",
      "\u001b[0;32m~/scripts/sfmr/__init__.py\u001b[0m in \u001b[0;36mclean_sfmr\u001b[0;34m(sfmr_df, sfmr_source, sfmr_lon, sfmr_lat, sfmr_time, sfmr_quality, sfmr_wind)\u001b[0m\n\u001b[1;32m    450\u001b[0m             \u001b[0mdatetime\u001b[0m\u001b[0;34m.\u001b[0m\u001b[0mdatetime\u001b[0m\u001b[0;34m.\u001b[0m\u001b[0mstrptime\u001b[0m\u001b[0;34m(\u001b[0m\u001b[0mx\u001b[0m\u001b[0;34m[\u001b[0m\u001b[0;34m\"DATE\"\u001b[0m\u001b[0;34m]\u001b[0m\u001b[0;34m,\u001b[0m \u001b[0;34m\"%Y%m%d\"\u001b[0m\u001b[0;34m)\u001b[0m\u001b[0;34m.\u001b[0m\u001b[0mdate\u001b[0m\u001b[0;34m(\u001b[0m\u001b[0;34m)\u001b[0m\u001b[0;34m,\u001b[0m\u001b[0;34m\u001b[0m\u001b[0;34m\u001b[0m\u001b[0m\n\u001b[1;32m    451\u001b[0m             \u001b[0mdatetime\u001b[0m\u001b[0;34m.\u001b[0m\u001b[0mdatetime\u001b[0m\u001b[0;34m.\u001b[0m\u001b[0mstrptime\u001b[0m\u001b[0;34m(\u001b[0m\u001b[0mx\u001b[0m\u001b[0;34m[\u001b[0m\u001b[0;34m\"TIME\"\u001b[0m\u001b[0;34m]\u001b[0m\u001b[0;34m.\u001b[0m\u001b[0mzfill\u001b[0m\u001b[0;34m(\u001b[0m\u001b[0;36m6\u001b[0m\u001b[0;34m)\u001b[0m\u001b[0;34m,\u001b[0m \u001b[0;34m\"%H%M%S\"\u001b[0m\u001b[0;34m)\u001b[0m\u001b[0;34m.\u001b[0m\u001b[0mtime\u001b[0m\u001b[0;34m(\u001b[0m\u001b[0;34m)\u001b[0m\u001b[0;34m\u001b[0m\u001b[0;34m\u001b[0m\u001b[0m\n\u001b[0;32m--> 452\u001b[0;31m         ), axis=1)\n\u001b[0m\u001b[1;32m    453\u001b[0m \u001b[0;34m\u001b[0m\u001b[0m\n\u001b[1;32m    454\u001b[0m     \u001b[0;31m# Removing duplicates\u001b[0m\u001b[0;34m\u001b[0m\u001b[0;34m\u001b[0m\u001b[0;34m\u001b[0m\u001b[0m\n",
      "\u001b[0;32m~/anaconda3/envs/sfmr/lib/python3.7/site-packages/pandas/core/frame.py\u001b[0m in \u001b[0;36mapply\u001b[0;34m(self, func, axis, raw, result_type, args, **kwargs)\u001b[0m\n\u001b[1;32m   8738\u001b[0m             \u001b[0mkwargs\u001b[0m\u001b[0;34m=\u001b[0m\u001b[0mkwargs\u001b[0m\u001b[0;34m,\u001b[0m\u001b[0;34m\u001b[0m\u001b[0;34m\u001b[0m\u001b[0m\n\u001b[1;32m   8739\u001b[0m         )\n\u001b[0;32m-> 8740\u001b[0;31m         \u001b[0;32mreturn\u001b[0m \u001b[0mop\u001b[0m\u001b[0;34m.\u001b[0m\u001b[0mapply\u001b[0m\u001b[0;34m(\u001b[0m\u001b[0;34m)\u001b[0m\u001b[0;34m\u001b[0m\u001b[0;34m\u001b[0m\u001b[0m\n\u001b[0m\u001b[1;32m   8741\u001b[0m \u001b[0;34m\u001b[0m\u001b[0m\n\u001b[1;32m   8742\u001b[0m     def applymap(\n",
      "\u001b[0;32m~/anaconda3/envs/sfmr/lib/python3.7/site-packages/pandas/core/apply.py\u001b[0m in \u001b[0;36mapply\u001b[0;34m(self)\u001b[0m\n\u001b[1;32m    686\u001b[0m             \u001b[0;32mreturn\u001b[0m \u001b[0mself\u001b[0m\u001b[0;34m.\u001b[0m\u001b[0mapply_raw\u001b[0m\u001b[0;34m(\u001b[0m\u001b[0;34m)\u001b[0m\u001b[0;34m\u001b[0m\u001b[0;34m\u001b[0m\u001b[0m\n\u001b[1;32m    687\u001b[0m \u001b[0;34m\u001b[0m\u001b[0m\n\u001b[0;32m--> 688\u001b[0;31m         \u001b[0;32mreturn\u001b[0m \u001b[0mself\u001b[0m\u001b[0;34m.\u001b[0m\u001b[0mapply_standard\u001b[0m\u001b[0;34m(\u001b[0m\u001b[0;34m)\u001b[0m\u001b[0;34m\u001b[0m\u001b[0;34m\u001b[0m\u001b[0m\n\u001b[0m\u001b[1;32m    689\u001b[0m \u001b[0;34m\u001b[0m\u001b[0m\n\u001b[1;32m    690\u001b[0m     \u001b[0;32mdef\u001b[0m \u001b[0magg\u001b[0m\u001b[0;34m(\u001b[0m\u001b[0mself\u001b[0m\u001b[0;34m)\u001b[0m\u001b[0;34m:\u001b[0m\u001b[0;34m\u001b[0m\u001b[0;34m\u001b[0m\u001b[0m\n",
      "\u001b[0;32m~/anaconda3/envs/sfmr/lib/python3.7/site-packages/pandas/core/apply.py\u001b[0m in \u001b[0;36mapply_standard\u001b[0;34m(self)\u001b[0m\n\u001b[1;32m    810\u001b[0m \u001b[0;34m\u001b[0m\u001b[0m\n\u001b[1;32m    811\u001b[0m     \u001b[0;32mdef\u001b[0m \u001b[0mapply_standard\u001b[0m\u001b[0;34m(\u001b[0m\u001b[0mself\u001b[0m\u001b[0;34m)\u001b[0m\u001b[0;34m:\u001b[0m\u001b[0;34m\u001b[0m\u001b[0;34m\u001b[0m\u001b[0m\n\u001b[0;32m--> 812\u001b[0;31m         \u001b[0mresults\u001b[0m\u001b[0;34m,\u001b[0m \u001b[0mres_index\u001b[0m \u001b[0;34m=\u001b[0m \u001b[0mself\u001b[0m\u001b[0;34m.\u001b[0m\u001b[0mapply_series_generator\u001b[0m\u001b[0;34m(\u001b[0m\u001b[0;34m)\u001b[0m\u001b[0;34m\u001b[0m\u001b[0;34m\u001b[0m\u001b[0m\n\u001b[0m\u001b[1;32m    813\u001b[0m \u001b[0;34m\u001b[0m\u001b[0m\n\u001b[1;32m    814\u001b[0m         \u001b[0;31m# wrap results\u001b[0m\u001b[0;34m\u001b[0m\u001b[0;34m\u001b[0m\u001b[0;34m\u001b[0m\u001b[0m\n",
      "\u001b[0;32m~/anaconda3/envs/sfmr/lib/python3.7/site-packages/pandas/core/apply.py\u001b[0m in \u001b[0;36mapply_series_generator\u001b[0;34m(self)\u001b[0m\n\u001b[1;32m    826\u001b[0m             \u001b[0;32mfor\u001b[0m \u001b[0mi\u001b[0m\u001b[0;34m,\u001b[0m \u001b[0mv\u001b[0m \u001b[0;32min\u001b[0m \u001b[0menumerate\u001b[0m\u001b[0;34m(\u001b[0m\u001b[0mseries_gen\u001b[0m\u001b[0;34m)\u001b[0m\u001b[0;34m:\u001b[0m\u001b[0;34m\u001b[0m\u001b[0;34m\u001b[0m\u001b[0m\n\u001b[1;32m    827\u001b[0m                 \u001b[0;31m# ignore SettingWithCopy here in case the user mutates\u001b[0m\u001b[0;34m\u001b[0m\u001b[0;34m\u001b[0m\u001b[0;34m\u001b[0m\u001b[0m\n\u001b[0;32m--> 828\u001b[0;31m                 \u001b[0mresults\u001b[0m\u001b[0;34m[\u001b[0m\u001b[0mi\u001b[0m\u001b[0;34m]\u001b[0m \u001b[0;34m=\u001b[0m \u001b[0mself\u001b[0m\u001b[0;34m.\u001b[0m\u001b[0mf\u001b[0m\u001b[0;34m(\u001b[0m\u001b[0mv\u001b[0m\u001b[0;34m)\u001b[0m\u001b[0;34m\u001b[0m\u001b[0;34m\u001b[0m\u001b[0m\n\u001b[0m\u001b[1;32m    829\u001b[0m                 \u001b[0;32mif\u001b[0m \u001b[0misinstance\u001b[0m\u001b[0;34m(\u001b[0m\u001b[0mresults\u001b[0m\u001b[0;34m[\u001b[0m\u001b[0mi\u001b[0m\u001b[0;34m]\u001b[0m\u001b[0;34m,\u001b[0m \u001b[0mABCSeries\u001b[0m\u001b[0;34m)\u001b[0m\u001b[0;34m:\u001b[0m\u001b[0;34m\u001b[0m\u001b[0;34m\u001b[0m\u001b[0m\n\u001b[1;32m    830\u001b[0m                     \u001b[0;31m# If we have a view on v, we need to make a copy because\u001b[0m\u001b[0;34m\u001b[0m\u001b[0;34m\u001b[0m\u001b[0;34m\u001b[0m\u001b[0m\n",
      "\u001b[0;32m~/scripts/sfmr/__init__.py\u001b[0m in \u001b[0;36m<lambda>\u001b[0;34m(x)\u001b[0m\n\u001b[1;32m    449\u001b[0m         sfmr_df[sfmr_time] = sfmr_df.apply(lambda x: datetime.datetime.combine(\n\u001b[1;32m    450\u001b[0m             \u001b[0mdatetime\u001b[0m\u001b[0;34m.\u001b[0m\u001b[0mdatetime\u001b[0m\u001b[0;34m.\u001b[0m\u001b[0mstrptime\u001b[0m\u001b[0;34m(\u001b[0m\u001b[0mx\u001b[0m\u001b[0;34m[\u001b[0m\u001b[0;34m\"DATE\"\u001b[0m\u001b[0;34m]\u001b[0m\u001b[0;34m,\u001b[0m \u001b[0;34m\"%Y%m%d\"\u001b[0m\u001b[0;34m)\u001b[0m\u001b[0;34m.\u001b[0m\u001b[0mdate\u001b[0m\u001b[0;34m(\u001b[0m\u001b[0;34m)\u001b[0m\u001b[0;34m,\u001b[0m\u001b[0;34m\u001b[0m\u001b[0;34m\u001b[0m\u001b[0m\n\u001b[0;32m--> 451\u001b[0;31m             \u001b[0mdatetime\u001b[0m\u001b[0;34m.\u001b[0m\u001b[0mdatetime\u001b[0m\u001b[0;34m.\u001b[0m\u001b[0mstrptime\u001b[0m\u001b[0;34m(\u001b[0m\u001b[0mx\u001b[0m\u001b[0;34m[\u001b[0m\u001b[0;34m\"TIME\"\u001b[0m\u001b[0;34m]\u001b[0m\u001b[0;34m.\u001b[0m\u001b[0mzfill\u001b[0m\u001b[0;34m(\u001b[0m\u001b[0;36m6\u001b[0m\u001b[0;34m)\u001b[0m\u001b[0;34m,\u001b[0m \u001b[0;34m\"%H%M%S\"\u001b[0m\u001b[0;34m)\u001b[0m\u001b[0;34m.\u001b[0m\u001b[0mtime\u001b[0m\u001b[0;34m(\u001b[0m\u001b[0;34m)\u001b[0m\u001b[0;34m\u001b[0m\u001b[0;34m\u001b[0m\u001b[0m\n\u001b[0m\u001b[1;32m    452\u001b[0m         ), axis=1)\n\u001b[1;32m    453\u001b[0m \u001b[0;34m\u001b[0m\u001b[0m\n",
      "\u001b[0;32m~/anaconda3/envs/sfmr/lib/python3.7/_strptime.py\u001b[0m in \u001b[0;36m_strptime_datetime\u001b[0;34m(cls, data_string, format)\u001b[0m\n\u001b[1;32m    575\u001b[0m     \"\"\"Return a class cls instance based on the input string and the\n\u001b[1;32m    576\u001b[0m     format string.\"\"\"\n\u001b[0;32m--> 577\u001b[0;31m     \u001b[0mtt\u001b[0m\u001b[0;34m,\u001b[0m \u001b[0mfraction\u001b[0m\u001b[0;34m,\u001b[0m \u001b[0mgmtoff_fraction\u001b[0m \u001b[0;34m=\u001b[0m \u001b[0m_strptime\u001b[0m\u001b[0;34m(\u001b[0m\u001b[0mdata_string\u001b[0m\u001b[0;34m,\u001b[0m \u001b[0mformat\u001b[0m\u001b[0;34m)\u001b[0m\u001b[0;34m\u001b[0m\u001b[0;34m\u001b[0m\u001b[0m\n\u001b[0m\u001b[1;32m    578\u001b[0m     \u001b[0mtzname\u001b[0m\u001b[0;34m,\u001b[0m \u001b[0mgmtoff\u001b[0m \u001b[0;34m=\u001b[0m \u001b[0mtt\u001b[0m\u001b[0;34m[\u001b[0m\u001b[0;34m-\u001b[0m\u001b[0;36m2\u001b[0m\u001b[0;34m:\u001b[0m\u001b[0;34m]\u001b[0m\u001b[0;34m\u001b[0m\u001b[0;34m\u001b[0m\u001b[0m\n\u001b[1;32m    579\u001b[0m     \u001b[0margs\u001b[0m \u001b[0;34m=\u001b[0m \u001b[0mtt\u001b[0m\u001b[0;34m[\u001b[0m\u001b[0;34m:\u001b[0m\u001b[0;36m6\u001b[0m\u001b[0;34m]\u001b[0m \u001b[0;34m+\u001b[0m \u001b[0;34m(\u001b[0m\u001b[0mfraction\u001b[0m\u001b[0;34m,\u001b[0m\u001b[0;34m)\u001b[0m\u001b[0;34m\u001b[0m\u001b[0;34m\u001b[0m\u001b[0m\n",
      "\u001b[0;32m~/anaconda3/envs/sfmr/lib/python3.7/_strptime.py\u001b[0m in \u001b[0;36m_strptime\u001b[0;34m(data_string, format)\u001b[0m\n\u001b[1;32m    354\u001b[0m                 \u001b[0;32mraise\u001b[0m \u001b[0mValueError\u001b[0m\u001b[0;34m(\u001b[0m\u001b[0;34m\"stray %% in format '%s'\"\u001b[0m \u001b[0;34m%\u001b[0m \u001b[0mformat\u001b[0m\u001b[0;34m)\u001b[0m \u001b[0;32mfrom\u001b[0m \u001b[0;32mNone\u001b[0m\u001b[0;34m\u001b[0m\u001b[0;34m\u001b[0m\u001b[0m\n\u001b[1;32m    355\u001b[0m             \u001b[0m_regex_cache\u001b[0m\u001b[0;34m[\u001b[0m\u001b[0mformat\u001b[0m\u001b[0;34m]\u001b[0m \u001b[0;34m=\u001b[0m \u001b[0mformat_regex\u001b[0m\u001b[0;34m\u001b[0m\u001b[0;34m\u001b[0m\u001b[0m\n\u001b[0;32m--> 356\u001b[0;31m     \u001b[0mfound\u001b[0m \u001b[0;34m=\u001b[0m \u001b[0mformat_regex\u001b[0m\u001b[0;34m.\u001b[0m\u001b[0mmatch\u001b[0m\u001b[0;34m(\u001b[0m\u001b[0mdata_string\u001b[0m\u001b[0;34m)\u001b[0m\u001b[0;34m\u001b[0m\u001b[0;34m\u001b[0m\u001b[0m\n\u001b[0m\u001b[1;32m    357\u001b[0m     \u001b[0;32mif\u001b[0m \u001b[0;32mnot\u001b[0m \u001b[0mfound\u001b[0m\u001b[0;34m:\u001b[0m\u001b[0;34m\u001b[0m\u001b[0;34m\u001b[0m\u001b[0m\n\u001b[1;32m    358\u001b[0m         raise ValueError(\"time data %r does not match format %r\" %\n",
      "\u001b[0;31mKeyboardInterrupt\u001b[0m: "
     ]
    },
    {
     "data": {
      "text/plain": [
       "<Figure size 1080x720 with 0 Axes>"
      ]
     },
     "metadata": {},
     "output_type": "display_data"
    },
    {
     "data": {
      "text/plain": [
       "<Figure size 1080x720 with 0 Axes>"
      ]
     },
     "metadata": {},
     "output_type": "display_data"
    },
    {
     "data": {
      "text/plain": [
       "<Figure size 1080x720 with 0 Axes>"
      ]
     },
     "metadata": {},
     "output_type": "display_data"
    },
    {
     "data": {
      "text/plain": [
       "<Figure size 1080x720 with 0 Axes>"
      ]
     },
     "metadata": {},
     "output_type": "display_data"
    },
    {
     "data": {
      "text/plain": [
       "<Figure size 1080x720 with 0 Axes>"
      ]
     },
     "metadata": {},
     "output_type": "display_data"
    },
    {
     "data": {
      "text/plain": [
       "<Figure size 1080x720 with 0 Axes>"
      ]
     },
     "metadata": {},
     "output_type": "display_data"
    }
   ],
   "source": [
    "sfm_pths_201 = glob.glob(PTHS['sfm_dir'] + '**/201*/**/*.nc', recursive=True) # 2010 to 2019 included\n",
    "sfm_pths_202 = glob.glob(PTHS['sfm_dir'] + '**/2020/**/*.nc', recursive=True) # 2020 only\n",
    "sfm_pths     = sfm_pths_201 + sfm_pths_202\n",
    "# sfm_pths     = ['/home/arthur/data/cyclobs/sfmr/noaa_aoml_hrd/2018/olivia/AFRC_SFMR20180910U2.nc'] # debug\n",
    "# subset          = ['DATE', 'TIME', 'LON', 'LAT', 'SWS']\n",
    "\n",
    "for sfm_pth in tqdm(sfm_pths[:10]):\n",
    "    try:\n",
    "        ds_sfmr, sat_pths, dtt_sfmr_stt, dtt_sfmr_end = preprocess_sfmr(sfm_pth)\n",
    "        sfm_lon, sfm_lat, sfm_sws                     = get_var_names(sfm_pth)\n",
    "        valid_sfm_file = True\n",
    "    except IndexError as e:\n",
    "        valid_sfm_file = False\n",
    "    \n",
    "    if valid_sfm_file:\n",
    "        # Iterate over all candidates satellite files\n",
    "        for i, sat_pth in enumerate(sat_pths):\n",
    "            ds_sat = xr.open_dataset(sat_pth)\n",
    "            dt_sfm_sat_stt = (ds_sat.acquisition_time - dtt_sfmr_stt) / np.timedelta64(1, 's') # Time diff. SAT - SFMR_START\n",
    "            dt_sfm_sat_end = (ds_sat.acquisition_time - dtt_sfmr_end) / np.timedelta64(1, 's') # Time diff. SAT - SFMR_END\n",
    "            if (dt_sfm_sat_stt >= 0) & (dt_sfm_sat_end <= 0): # SAT. acq. time must be in between\n",
    "                if (abs(((ds_sfmr[sfm_lon] % 360).mean(skipna=True) - ds_sat.lon_IBT)) <= 10) & (abs(((ds_sfmr[sfm_lat]).mean(skipna=True) - ds_sat.lat_IBT)) <= 10): # check also that it's the same storm (lon, lat)\n",
    "                    # Open Jeff's IBTrACS product (MAXSS version)\n",
    "                    DS_SAT = xr.open_dataset('/'.join(sat_pth.split('/')[:6]) + '/product_JF/' + ds_sat.data_file.item())\n",
    "                    track_df = pd.DataFrame(\n",
    "                        data={\n",
    "                            'datetime': DS_SAT.track_time,\n",
    "                            'lon':      DS_SAT.__track_lon,\n",
    "                            'lat':      DS_SAT.__track_lat,\n",
    "                        }\n",
    "                    )\n",
    "                    # Get acquisition time\n",
    "                    acq_time = ds_sat.acquisition_time.values\n",
    "                    acq_time = pd.to_datetime(acq_time.astype('datetime64[s]')) # round to nearest second and convert to datetime object\n",
    "\n",
    "                    # Put SFMR points on satellite points, accounting for storm translation\n",
    "                    try:\n",
    "                        sfmr_df  = f.prepare_sfmr(sfm_pth, track_df, acq_time)\n",
    "                        valid    = True\n",
    "                    except KeyError as e:\n",
    "                        valid = False\n",
    "                        \n",
    "                    if valid:\n",
    "                        # print(i, sat_pth)\n",
    "                        dss      = sfmr_df.to_xarray()\n",
    "                        # Cropping at +/- 2hrs from satellite acquisition time\n",
    "                        dss      = dss.where(abs((ds_sat.acquisition_time.values - dss.time) / np.timedelta64(1, 'm')) <= PRMS['delta_t'], drop=True)\n",
    "\n",
    "                        # TODO: handle lon, lat \n",
    "                        dss[sfm_lon] = dss[sfm_lon] % 360\n",
    "\n",
    "                        ### Get dr of SFMR from TC center \n",
    "                        # Convert (lon_center, lat_center) to array \n",
    "                        lons_center = np.ones_like(dss[sfm_lon]) * float(ds_sat.lon_IBT)\n",
    "                        lats_center = np.ones_like(dss[sfm_lat]) * float(ds_sat.lat_IBT)\n",
    "                        # Get the distance between target point and center point\n",
    "                        geod_wgs84  = CRS(\"epsg:4326\").get_geod()\n",
    "                        _, _, dr    = geod_wgs84.inv(lons_center, lats_center, dss[sfm_lon], dss[sfm_lat])\n",
    "                        \n",
    "                        if len(dr) > 0:\n",
    "                            if (np.min(dr) <= PRMS['dr_min']) & (np.max(dr) >= PRMS['dr_max']): \n",
    "#                                 # Custom estimate Rmax\n",
    "#                                 msk = dr > 150000\n",
    "#                                 sws = dss.SWS[~msk]\n",
    "#                                 lon = dss.LON[~msk]\n",
    "#                                 lat = dss.LAT[~msk]\n",
    "\n",
    "#                                 # Determine local maxima\n",
    "#                                 loc_mxs = argrelextrema(np.array(sws), np.greater, order=20)[0]\n",
    "                                \n",
    "#                                 # Reject outliers, i.e points that have an anormal big distance from IBTrACS center when compared to most of the other points\n",
    "#                                 loc_mxs   = loc_mxs[loc_mxs > 20]\n",
    "#                                 loc_mxs   = loc_mxs[loc_mxs < len(dr) - 20]\n",
    "#                                 valids    = reject_outliers(dr[loc_mxs], m=2.)\n",
    "#                                 valid_mxs = loc_mxs[~np.isnan(valids)]\n",
    "\n",
    "#                                 # Estimate Rmax\n",
    "#                                 rmxs = []\n",
    "#                                 if len(loc_mxs) % 2 == 0:\n",
    "#                                     for k in range(len(loc_mxs) // 2):\n",
    "#                                         coords_1 = (lat[loc_mxs[2 * k]],     lon[loc_mxs[2 * k]])\n",
    "#                                         coords_2 = (lat[loc_mxs[2 * k + 1]], lon[loc_mxs[2 * k + 1]])\n",
    "#                                         rmxs.append(geopy.distance.geodesic(coords_1, coords_2).km / 2)\n",
    "#                                     rmx_estimate = np.mean(rmxs)\n",
    "#                                 else:\n",
    "#                                     rmx_estimate = np.nan\n",
    "                                    \n",
    "#                                 # print(ds_sat.atcf_id.item())\n",
    "\n",
    "#                                 if PRMS['save_figs']:\n",
    "#                                     # Plot\n",
    "#                                     fig, ax = plt.subplots(figsize=(15, 10))\n",
    "#                                     plt.rcParams['axes.facecolor'] = 'white'\n",
    "#                                     sws.plot()\n",
    "#                                     plt.plot(sws.isel(time=loc_mxs).time, sws.isel(time=loc_mxs), linestyle='--')\n",
    "#                                     plt.title('Rmax estimate = {:.1f} km'.format(rmx_estimate), weight='bold')\n",
    "#                                     plt.grid()\n",
    "#                                     atcf_id = ds_sat.atcf_id.item()\n",
    "#                                     p_sav   = Path(PTHS['sav_fig_dir'] + '{}/{}/'.format(atcf_id[-4:], atcf_id))\n",
    "#                                     p_sav.mkdir(parents=True, exist_ok=True)\n",
    "#                                     plt.savefig(PTHS['sav_fig_dir'] + '{}/{}/{}_{}'.format(atcf_id[-4:], atcf_id, os.path.basename(sfm_pth)[:-3], os.path.basename(sat_pth).split('.')[0]))\n",
    "#                                     plt.clf()\n",
    "                            \n",
    "                                # Structure\n",
    "                                ds_col = xr.Dataset(\n",
    "                                    data_vars={\n",
    "                                        'sfmr_sws':         ('r', dss[sfm_sws].data),\n",
    "                                        'sfmr_pth':         sfm_pth,\n",
    "                                        # 'sfmr_rmx':         rmx_estimate,\n",
    "                                        # 'sfmr_rmx_nb_pts':  len(loc_mxs),\n",
    "                                        'vmx_IBT':          ds_sat.vmx_IBT.data,\n",
    "                                        'rmx_IBT':          ds_sat.rmx_IBT.data,\n",
    "                                        'r34_IBT':          ds_sat.r34_IBT.data,\n",
    "                                        'r50_IBT':          ds_sat.r50_IBT.data,\n",
    "                                        'r64_IBT':          ds_sat.r64_IBT.data,\n",
    "                                        'lon_IBT':          ds_sat.lon_IBT.data,\n",
    "                                        'lat_IBT':          ds_sat.lat_IBT.data,\n",
    "                                        'storm_dir_IBT':    ds_sat.storm_dir_IBT.data,\n",
    "                                        'storm_speed_IBT':  ds_sat.storm_speed_IBT.data,\n",
    "                                        'atcf_id':          ds_sat.atcf_id.data,\n",
    "                                        'sat_acq_time':     ds_sat.acquisition_time.data,\n",
    "                                        'sat_file':         ds_sat.data_file.data,\n",
    "                                        'sat_mission':      ds_sat.mission.data,\n",
    "                                    },\n",
    "                                    coords={\n",
    "                                        'r': dr\n",
    "                                    }\n",
    "                                    \n",
    "                                )\n",
    "                                # Save\n",
    "                                if PRMS['save']:\n",
    "                                    atcf_id = ds_sat.atcf_id.item()\n",
    "                                    p_sav   = Path(PTHS['sav_dir'] + '{}/{}/'.format(atcf_id[-4:], atcf_id))\n",
    "                                    p_sav.mkdir(parents=True, exist_ok=True)\n",
    "                                    ds_col.to_netcdf(PTHS['sav_dir'] + '{}/{}/{}_{}'.format(atcf_id[-4:], atcf_id, os.path.basename(sfm_pth)[:-3], os.path.basename(sat_pth)))"
   ]
  },
  {
   "cell_type": "code",
   "execution_count": null,
   "id": "4089d45b-99c7-4fe8-9e19-50ee0c971c79",
   "metadata": {},
   "outputs": [],
   "source": []
  },
  {
   "cell_type": "code",
   "execution_count": null,
   "id": "251d1c75-3055-42f6-9d87-397def2ac281",
   "metadata": {},
   "outputs": [],
   "source": []
  },
  {
   "cell_type": "code",
   "execution_count": null,
   "id": "7d2f3988-79e6-4b79-9f6b-4ab9edbfc5d0",
   "metadata": {},
   "outputs": [],
   "source": []
  },
  {
   "cell_type": "code",
   "execution_count": null,
   "id": "0246917d-954f-44e6-98de-d36c77fe1cf0",
   "metadata": {},
   "outputs": [],
   "source": []
  },
  {
   "cell_type": "code",
   "execution_count": null,
   "id": "e7e28e55-c5d7-4f15-a57f-2f63da6ade79",
   "metadata": {},
   "outputs": [],
   "source": []
  },
  {
   "cell_type": "code",
   "execution_count": null,
   "id": "9dd3ad6d-514c-4a0d-8d05-919c838012da",
   "metadata": {},
   "outputs": [],
   "source": []
  },
  {
   "cell_type": "code",
   "execution_count": null,
   "id": "074df46f-4ec0-45df-b329-38af93c1f392",
   "metadata": {},
   "outputs": [],
   "source": []
  },
  {
   "cell_type": "code",
   "execution_count": null,
   "id": "e37081c5-d055-4a3e-a0c8-3430320528b2",
   "metadata": {},
   "outputs": [],
   "source": []
  }
 ],
 "metadata": {
  "kernelspec": {
   "display_name": "Python 3",
   "language": "python",
   "name": "python3"
  },
  "language_info": {
   "codemirror_mode": {
    "name": "ipython",
    "version": 3
   },
   "file_extension": ".py",
   "mimetype": "text/x-python",
   "name": "python",
   "nbconvert_exporter": "python",
   "pygments_lexer": "ipython3",
   "version": "3.7.15"
  }
 },
 "nbformat": 4,
 "nbformat_minor": 5
}
